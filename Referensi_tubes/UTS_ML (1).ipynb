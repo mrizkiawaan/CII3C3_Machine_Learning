{
  "nbformat": 4,
  "nbformat_minor": 0,
  "metadata": {
    "colab": {
      "name": "UTS ML",
      "provenance": [],
      "collapsed_sections": []
    },
    "kernelspec": {
      "name": "python3",
      "display_name": "Python 3"
    },
    "language_info": {
      "name": "python"
    }
  },
  "cells": [
    {
      "cell_type": "markdown",
      "metadata": {
        "id": "LJwSPs2bzgab"
      },
      "source": [
        "Fadhilah Nadia Puteri\n",
        "1301194200"
      ]
    },
    {
      "cell_type": "markdown",
      "metadata": {
        "id": "wo4vS4jNCOAi"
      },
      "source": [
        "Nanda Ihwani Saputri 1301194107"
      ]
    },
    {
      "cell_type": "code",
      "metadata": {
        "id": "CJPrh0eMK1dN",
        "colab": {
          "base_uri": "https://localhost:8080/"
        },
        "outputId": "050666c4-6e95-456c-ff3d-2021477d0e91"
      },
      "source": [
        "from google.colab import drive\n",
        "drive.mount('/content/drive')"
      ],
      "execution_count": null,
      "outputs": [
        {
          "output_type": "stream",
          "name": "stdout",
          "text": [
            "Drive already mounted at /content/drive; to attempt to forcibly remount, call drive.mount(\"/content/drive\", force_remount=True).\n"
          ]
        }
      ]
    },
    {
      "cell_type": "code",
      "metadata": {
        "id": "wzuRh1H5NYhD"
      },
      "source": [
        "import pandas as pd\n",
        "import math\n",
        "import numpy as np\n",
        "import seaborn as sns\n",
        "from matplotlib import pyplot as plt"
      ],
      "execution_count": null,
      "outputs": []
    },
    {
      "cell_type": "code",
      "metadata": {
        "id": "hJ56cyGaOMWh"
      },
      "source": [
        "df = pd.read_csv('/content/drive/MyDrive/TUBES ML/kendaraan_test.csv')\n",
        "df"
      ],
      "execution_count": null,
      "outputs": []
    },
    {
      "cell_type": "markdown",
      "metadata": {
        "id": "rCW3bpG90DTa"
      },
      "source": [
        "\n",
        "**2. **"
      ]
    },
    {
      "cell_type": "code",
      "metadata": {
        "id": "TfOVruUzQDMO"
      },
      "source": [
        "df.describe()"
      ],
      "execution_count": null,
      "outputs": []
    },
    {
      "cell_type": "code",
      "metadata": {
        "id": "X-4KKfNiQMrA"
      },
      "source": [
        "df.info()"
      ],
      "execution_count": null,
      "outputs": []
    },
    {
      "cell_type": "markdown",
      "metadata": {
        "id": "q655FfDgx_2D"
      },
      "source": [
        "**3. PRE-PROCESSING DATA**"
      ]
    },
    {
      "cell_type": "code",
      "metadata": {
        "id": "kY0uamDJPxQ4"
      },
      "source": [
        "#kolom dengan data yang bertipe string akan diubah menjadi int \n",
        "df['Jenis_Kelamin'] = df['Jenis_Kelamin'].str.replace('Pria', '1')\n",
        "df['Jenis_Kelamin'] = df['Jenis_Kelamin'].str.replace('Wanita', '0')\n",
        "df['Umur_Kendaraan'] = df['Umur_Kendaraan'].str.replace('< 1 Tahun', '0')\n",
        "df['Umur_Kendaraan'] = df['Umur_Kendaraan'].str.replace('1-2 Tahun', '1')\n",
        "df['Umur_Kendaraan'] = df['Umur_Kendaraan'].str.replace('> 2 Tahun', '2')\n",
        "df['Kendaraan_Rusak'] = df['Kendaraan_Rusak'].str.replace('Pernah', '1')\n",
        "df['Kendaraan_Rusak'] = df['Kendaraan_Rusak'].str.replace('Tidak', '0')\n",
        "#drop kolom yang tidak relevan dan tidak akan digunakan\n",
        "del df['id']\n",
        "del df['Tertarik']"
      ],
      "execution_count": null,
      "outputs": []
    },
    {
      "cell_type": "code",
      "metadata": {
        "id": "JHyA4WNFXljg"
      },
      "source": [
        "df"
      ],
      "execution_count": null,
      "outputs": []
    },
    {
      "cell_type": "code",
      "metadata": {
        "id": "rN2zFuBdbNTv"
      },
      "source": [
        "#ubah nilai kolom menjadi int\n",
        "df['Jenis_Kelamin'] = pd.to_numeric(df['Jenis_Kelamin'])\n",
        "df['Kendaraan_Rusak'] = pd.to_numeric(df['Kendaraan_Rusak'])\n",
        "df['Umur_Kendaraan'] = pd.to_numeric(df['Umur_Kendaraan'])\n",
        "#isi kolom yang kosong dengan nilai mean dari kolom tersebut\n",
        "cols = [\"Umur\", \"SIM\", \"Jenis_Kelamin\", \"Kendaraan_Rusak\", \"Kanal_Penjualan\", \"Kode_Daerah\", \"Sudah_Asuransi\", \"Umur_Kendaraan\",\"Lama_Berlangganan\"]\n",
        "df[cols] = df[cols].fillna(df.mean())"
      ],
      "execution_count": null,
      "outputs": []
    },
    {
      "cell_type": "code",
      "metadata": {
        "id": "tUbLj0kGqfdp"
      },
      "source": [
        "df"
      ],
      "execution_count": null,
      "outputs": []
    },
    {
      "cell_type": "markdown",
      "metadata": {
        "id": "vI2GY2PSrVJS"
      },
      "source": [
        "**4. PILIH FITUR DAN HANDLE OUTLIER**"
      ]
    },
    {
      "cell_type": "code",
      "metadata": {
        "id": "ZyEVwvvLrb7t"
      },
      "source": [
        "fig, ax = plt.subplots(figsize=(20,10))\n",
        "sns.heatmap(df.corr(), center=0, annot=True, fmt=\".2f\")"
      ],
      "execution_count": null,
      "outputs": []
    },
    {
      "cell_type": "code",
      "metadata": {
        "id": "rgtR8Fd0y3k1"
      },
      "source": [
        "df.skew(skipna=True)"
      ],
      "execution_count": null,
      "outputs": []
    },
    {
      "cell_type": "code",
      "metadata": {
        "id": "MdkjUpRGy8Wn"
      },
      "source": [
        "df.columns"
      ],
      "execution_count": null,
      "outputs": []
    },
    {
      "cell_type": "code",
      "metadata": {
        "id": "-YfAp9YzzODr"
      },
      "source": [
        "column=['Jenis_Kelamin', 'Umur', 'SIM', 'Kode_Daerah', 'Sudah_Asuransi', \n",
        "        'Umur_Kendaraan', 'Kendaraan_Rusak', 'Prem1', 'Kanal_Penjualan', 'Lama_Berlangganan']\n",
        "df[column].fillna(df[column].mean(), inplace = True)\n",
        "\n",
        "for col in column:\n",
        "  fig = plt.figure(figsize = (10,7))\n",
        "  sns.boxplot(df[col])"
      ],
      "execution_count": null,
      "outputs": []
    },
    {
      "cell_type": "code",
      "metadata": {
        "id": "Xh-BQmxyZtSZ"
      },
      "source": [
        "def correlation(df,threshold):\n",
        "  col_corr = set()\n",
        "  corr_matrix = df.corr(method=\"kendall\")\n",
        "  for i in range(len(corr_matrix.columns)):\n",
        "      for j in range(i):\n",
        "        if abs(corr_matrix.iloc[i,j]) > threshold:\n",
        "          colname = corr_matrix.columns[i]\n",
        "          col_corr.add(colname)\n",
        "  return col_corr"
      ],
      "execution_count": null,
      "outputs": []
    },
    {
      "cell_type": "code",
      "metadata": {
        "id": "vk-OioFLbIAs"
      },
      "source": [
        "fitur_terpilih = correlation(df, 0.7)\n",
        "len(set(fitur_terpilih))"
      ],
      "execution_count": null,
      "outputs": []
    },
    {
      "cell_type": "code",
      "metadata": {
        "id": "J6-x6omDePyr"
      },
      "source": [
        "print(fitur_terpilih)"
      ],
      "execution_count": null,
      "outputs": []
    },
    {
      "cell_type": "code",
      "metadata": {
        "id": "mXy3Zc10erWv"
      },
      "source": [
        "#Membuang parameter yang tidak digunakan\n",
        "df = df.drop(df.columns[[0, 2, 3, 4, 5, 6, 7, 8, 10]], axis=1)\n",
        "df.head(47639)"
      ],
      "execution_count": null,
      "outputs": []
    },
    {
      "cell_type": "code",
      "metadata": {
        "id": "GAs7r4v60rws"
      },
      "source": [
        "#memilih fitur dan memasukkan ke .csv baru\n",
        "df_baru = df\n",
        "#memasukkan parameter-parameter sementara ke dalam csv baru\n",
        "df_baru.to_csv('Kendaraan_test_baru.csv')"
      ],
      "execution_count": null,
      "outputs": []
    },
    {
      "cell_type": "code",
      "metadata": {
        "id": "HL5_ZuNrqvPq"
      },
      "source": [
        "#Checking Missing Value\n",
        "total=df.isnull().sum().sort_values(ascending = False)\n",
        "print(total)"
      ],
      "execution_count": null,
      "outputs": []
    },
    {
      "cell_type": "code",
      "metadata": {
        "id": "fUDdKQOxyZqF"
      },
      "source": [
        "#heatmap ERROR\n",
        "plt.figure(figsize=(20,20))\n",
        "cor = data_train.corr(method='kendall')\n",
        "sns.heatmap(cor, annot =True)\n",
        "plt.show()"
      ],
      "execution_count": null,
      "outputs": []
    },
    {
      "cell_type": "markdown",
      "metadata": {
        "id": "b46KVuih2OEk"
      },
      "source": [
        "OUTLIER"
      ]
    },
    {
      "cell_type": "code",
      "metadata": {
        "id": "UxwlaCrv2UdQ"
      },
      "source": [
        "#Membuat Fungsi deteksi Outlier\n",
        "def outlier_treatment(datacolumn):\n",
        "  sorted(datacolumn)\n",
        "  Q1, Q3 = np.percentile(datacolumn, [25,75])\n",
        "  lower_range = Q1 - (1.5 * (Q3-Q1))\n",
        "  upper_range = Q3 + (1.5 * (Q3-Q1))\n",
        "  return lower_range, upper_range"
      ],
      "execution_count": null,
      "outputs": []
    },
    {
      "cell_type": "code",
      "metadata": {
        "id": "0p2CYKPu3Af1"
      },
      "source": [
        "outlier = []\n",
        "fitur = ['Jenis_Kelamin',\t'Umur',\t'SIM',\t'Kode_Daerah',\t'Sudah_Asuransi',\t'Umur_Kendaraan',\t'Kendaraan_Rusak',\t'Premi',\t'Kanal_Penjualan',\t'Lama_Berlangganan',\t'Tertarik']\n",
        "for column in fitur :\n",
        "  lowerbound, upperbound = outlier_treatment(data[column])\n",
        "  outlier = df[(df[column] < lowerbound) | (df[column]) > upperbound)].index\n",
        "print(outlier)"
      ],
      "execution_count": null,
      "outputs": []
    },
    {
      "cell_type": "code",
      "metadata": {
        "id": "mpCqeU-N3nZa"
      },
      "source": [
        "data.skew(skipna=True)"
      ],
      "execution_count": null,
      "outputs": []
    }
  ]
}