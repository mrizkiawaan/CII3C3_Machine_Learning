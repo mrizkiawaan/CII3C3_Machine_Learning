{
 "cells": [
  {
   "cell_type": "markdown",
   "id": "ae5dc9f1",
   "metadata": {},
   "source": [
    "# Tugas Besar Machine Learning - Clustering \n",
    "## Nama: Gian Maxmillian Firdaus\n",
    "## NIM:   1301190209"
   ]
  },
  {
   "cell_type": "markdown",
   "id": "72bfec78",
   "metadata": {},
   "source": [
    "### Formulasi Masalah"
   ]
  },
  {
   "cell_type": "markdown",
   "id": "5aa6ed54",
   "metadata": {},
   "source": [
    "Diberikan file dataset: kendaraan berisi beberapa kolom mengenai data pelanggan dari suatu dealer. \n",
    "Data akan digunakan untuk pembuatan model yang akan menemukan cluster dari suatu data yang dipilih. "
   ]
  },
  {
   "cell_type": "markdown",
   "id": "20cfbf7f",
   "metadata": {},
   "source": [
    "### Library yang digunakan"
   ]
  },
  {
   "cell_type": "code",
   "execution_count": 1,
   "id": "908559a0",
   "metadata": {},
   "outputs": [],
   "source": [
    "import pandas as pd\n",
    "import numpy as np\n",
    "import numpy.matlib\n",
    "import matplotlib.pyplot as plt\n",
    "import seaborn as sns"
   ]
  },
  {
   "cell_type": "markdown",
   "id": "508af19f",
   "metadata": {},
   "source": [
    "### Membaca data source"
   ]
  },
  {
   "cell_type": "markdown",
   "id": "7e4b13d7",
   "metadata": {},
   "source": [
    "Data source yang dibaca diambil dari file: kendaraan_train.csv"
   ]
  },
  {
   "cell_type": "code",
   "execution_count": 2,
   "id": "9da41a59",
   "metadata": {},
   "outputs": [],
   "source": [
    "df_train = pd.read_csv(\".\\datasets\\kendaraan_train.csv\")"
   ]
  },
  {
   "cell_type": "markdown",
   "id": "103523da",
   "metadata": {},
   "source": [
    "### Melihat dataset\n",
    "Untuk melihat preview dari data source"
   ]
  },
  {
   "cell_type": "code",
   "execution_count": 45,
   "id": "eaa8757d",
   "metadata": {},
   "outputs": [
    {
     "data": {
      "text/html": [
       "<div>\n",
       "<style scoped>\n",
       "    .dataframe tbody tr th:only-of-type {\n",
       "        vertical-align: middle;\n",
       "    }\n",
       "\n",
       "    .dataframe tbody tr th {\n",
       "        vertical-align: top;\n",
       "    }\n",
       "\n",
       "    .dataframe thead th {\n",
       "        text-align: right;\n",
       "    }\n",
       "</style>\n",
       "<table border=\"1\" class=\"dataframe\">\n",
       "  <thead>\n",
       "    <tr style=\"text-align: right;\">\n",
       "      <th></th>\n",
       "      <th>Jenis_Kelamin</th>\n",
       "      <th>Umur</th>\n",
       "      <th>SIM</th>\n",
       "      <th>Kode_Daerah</th>\n",
       "      <th>Sudah_Asuransi</th>\n",
       "      <th>Umur_Kendaraan</th>\n",
       "      <th>Kendaraan_Rusak</th>\n",
       "      <th>Premi</th>\n",
       "      <th>Kanal_Penjualan</th>\n",
       "      <th>Lama_Berlangganan</th>\n",
       "      <th>Tertarik</th>\n",
       "    </tr>\n",
       "  </thead>\n",
       "  <tbody>\n",
       "    <tr>\n",
       "      <th>0</th>\n",
       "      <td>0.0</td>\n",
       "      <td>0.153846</td>\n",
       "      <td>1.0</td>\n",
       "      <td>0.634615</td>\n",
       "      <td>1.0</td>\n",
       "      <td>0.0</td>\n",
       "      <td>0.0</td>\n",
       "      <td>0.047251</td>\n",
       "      <td>0.932099</td>\n",
       "      <td>0.301038</td>\n",
       "      <td>0.0</td>\n",
       "    </tr>\n",
       "    <tr>\n",
       "      <th>1</th>\n",
       "      <td>1.0</td>\n",
       "      <td>0.430769</td>\n",
       "      <td>1.0</td>\n",
       "      <td>0.750000</td>\n",
       "      <td>0.0</td>\n",
       "      <td>1.0</td>\n",
       "      <td>1.0</td>\n",
       "      <td>0.043104</td>\n",
       "      <td>0.172840</td>\n",
       "      <td>0.512111</td>\n",
       "      <td>0.0</td>\n",
       "    </tr>\n",
       "    <tr>\n",
       "      <th>2</th>\n",
       "      <td>0.0</td>\n",
       "      <td>0.584615</td>\n",
       "      <td>1.0</td>\n",
       "      <td>0.923077</td>\n",
       "      <td>0.0</td>\n",
       "      <td>0.5</td>\n",
       "      <td>0.0</td>\n",
       "      <td>0.000000</td>\n",
       "      <td>0.759259</td>\n",
       "      <td>0.183391</td>\n",
       "      <td>0.0</td>\n",
       "    </tr>\n",
       "    <tr>\n",
       "      <th>3</th>\n",
       "      <td>1.0</td>\n",
       "      <td>0.015385</td>\n",
       "      <td>1.0</td>\n",
       "      <td>0.673077</td>\n",
       "      <td>1.0</td>\n",
       "      <td>0.0</td>\n",
       "      <td>0.0</td>\n",
       "      <td>0.037402</td>\n",
       "      <td>0.932099</td>\n",
       "      <td>0.557093</td>\n",
       "      <td>0.0</td>\n",
       "    </tr>\n",
       "    <tr>\n",
       "      <th>4</th>\n",
       "      <td>0.0</td>\n",
       "      <td>0.000000</td>\n",
       "      <td>1.0</td>\n",
       "      <td>0.153846</td>\n",
       "      <td>1.0</td>\n",
       "      <td>0.0</td>\n",
       "      <td>0.0</td>\n",
       "      <td>0.052380</td>\n",
       "      <td>0.981481</td>\n",
       "      <td>0.072664</td>\n",
       "      <td>0.0</td>\n",
       "    </tr>\n",
       "  </tbody>\n",
       "</table>\n",
       "</div>"
      ],
      "text/plain": [
       "   Jenis_Kelamin      Umur  SIM  Kode_Daerah  Sudah_Asuransi  Umur_Kendaraan  \\\n",
       "0            0.0  0.153846  1.0     0.634615             1.0             0.0   \n",
       "1            1.0  0.430769  1.0     0.750000             0.0             1.0   \n",
       "2            0.0  0.584615  1.0     0.923077             0.0             0.5   \n",
       "3            1.0  0.015385  1.0     0.673077             1.0             0.0   \n",
       "4            0.0  0.000000  1.0     0.153846             1.0             0.0   \n",
       "\n",
       "   Kendaraan_Rusak     Premi  Kanal_Penjualan  Lama_Berlangganan  Tertarik  \n",
       "0              0.0  0.047251         0.932099           0.301038       0.0  \n",
       "1              1.0  0.043104         0.172840           0.512111       0.0  \n",
       "2              0.0  0.000000         0.759259           0.183391       0.0  \n",
       "3              0.0  0.037402         0.932099           0.557093       0.0  \n",
       "4              0.0  0.052380         0.981481           0.072664       0.0  "
      ]
     },
     "execution_count": 45,
     "metadata": {},
     "output_type": "execute_result"
    }
   ],
   "source": [
    "df_train.head()"
   ]
  },
  {
   "cell_type": "markdown",
   "id": "f23079f5",
   "metadata": {},
   "source": [
    "### Menghitung jumlah baris dan kolom dari dataset"
   ]
  },
  {
   "cell_type": "code",
   "execution_count": 46,
   "id": "7d72955a",
   "metadata": {},
   "outputs": [
    {
     "data": {
      "text/plain": [
       "(171068, 11)"
      ]
     },
     "execution_count": 46,
     "metadata": {},
     "output_type": "execute_result"
    }
   ],
   "source": [
    "df_train.shape"
   ]
  },
  {
   "cell_type": "markdown",
   "id": "df7ba045",
   "metadata": {},
   "source": [
    "### Menampilkan info dari dataset"
   ]
  },
  {
   "cell_type": "code",
   "execution_count": 5,
   "id": "a6cfb735",
   "metadata": {},
   "outputs": [
    {
     "name": "stdout",
     "output_type": "stream",
     "text": [
      "<class 'pandas.core.frame.DataFrame'>\n",
      "RangeIndex: 285831 entries, 0 to 285830\n",
      "Data columns (total 12 columns):\n",
      " #   Column             Non-Null Count   Dtype  \n",
      "---  ------             --------------   -----  \n",
      " 0   id                 285831 non-null  int64  \n",
      " 1   Jenis_Kelamin      271391 non-null  object \n",
      " 2   Umur               271617 non-null  float64\n",
      " 3   SIM                271427 non-null  float64\n",
      " 4   Kode_Daerah        271525 non-null  float64\n",
      " 5   Sudah_Asuransi     271602 non-null  float64\n",
      " 6   Umur_Kendaraan     271556 non-null  object \n",
      " 7   Kendaraan_Rusak    271643 non-null  object \n",
      " 8   Premi              271262 non-null  float64\n",
      " 9   Kanal_Penjualan    271532 non-null  float64\n",
      " 10  Lama_Berlangganan  271839 non-null  float64\n",
      " 11  Tertarik           285831 non-null  int64  \n",
      "dtypes: float64(7), int64(2), object(3)\n",
      "memory usage: 26.2+ MB\n"
     ]
    }
   ],
   "source": [
    "df_train.info()"
   ]
  },
  {
   "cell_type": "markdown",
   "id": "944d4546",
   "metadata": {},
   "source": [
    "### Menampilkan Statistik Dataset"
   ]
  },
  {
   "cell_type": "code",
   "execution_count": 6,
   "id": "a466977b",
   "metadata": {},
   "outputs": [
    {
     "data": {
      "text/html": [
       "<div>\n",
       "<style scoped>\n",
       "    .dataframe tbody tr th:only-of-type {\n",
       "        vertical-align: middle;\n",
       "    }\n",
       "\n",
       "    .dataframe tbody tr th {\n",
       "        vertical-align: top;\n",
       "    }\n",
       "\n",
       "    .dataframe thead th {\n",
       "        text-align: right;\n",
       "    }\n",
       "</style>\n",
       "<table border=\"1\" class=\"dataframe\">\n",
       "  <thead>\n",
       "    <tr style=\"text-align: right;\">\n",
       "      <th></th>\n",
       "      <th>id</th>\n",
       "      <th>Umur</th>\n",
       "      <th>SIM</th>\n",
       "      <th>Kode_Daerah</th>\n",
       "      <th>Sudah_Asuransi</th>\n",
       "      <th>Premi</th>\n",
       "      <th>Kanal_Penjualan</th>\n",
       "      <th>Lama_Berlangganan</th>\n",
       "      <th>Tertarik</th>\n",
       "    </tr>\n",
       "  </thead>\n",
       "  <tbody>\n",
       "    <tr>\n",
       "      <th>count</th>\n",
       "      <td>285831.000000</td>\n",
       "      <td>271617.000000</td>\n",
       "      <td>271427.000000</td>\n",
       "      <td>271525.000000</td>\n",
       "      <td>271602.000000</td>\n",
       "      <td>271262.000000</td>\n",
       "      <td>271532.000000</td>\n",
       "      <td>271839.000000</td>\n",
       "      <td>285831.000000</td>\n",
       "    </tr>\n",
       "    <tr>\n",
       "      <th>mean</th>\n",
       "      <td>142916.000000</td>\n",
       "      <td>38.844336</td>\n",
       "      <td>0.997848</td>\n",
       "      <td>26.405410</td>\n",
       "      <td>0.458778</td>\n",
       "      <td>30536.683472</td>\n",
       "      <td>112.021567</td>\n",
       "      <td>154.286302</td>\n",
       "      <td>0.122471</td>\n",
       "    </tr>\n",
       "    <tr>\n",
       "      <th>std</th>\n",
       "      <td>82512.446734</td>\n",
       "      <td>15.522487</td>\n",
       "      <td>0.046335</td>\n",
       "      <td>13.252714</td>\n",
       "      <td>0.498299</td>\n",
       "      <td>17155.000770</td>\n",
       "      <td>54.202457</td>\n",
       "      <td>83.694910</td>\n",
       "      <td>0.327830</td>\n",
       "    </tr>\n",
       "    <tr>\n",
       "      <th>min</th>\n",
       "      <td>1.000000</td>\n",
       "      <td>20.000000</td>\n",
       "      <td>0.000000</td>\n",
       "      <td>0.000000</td>\n",
       "      <td>0.000000</td>\n",
       "      <td>2630.000000</td>\n",
       "      <td>1.000000</td>\n",
       "      <td>10.000000</td>\n",
       "      <td>0.000000</td>\n",
       "    </tr>\n",
       "    <tr>\n",
       "      <th>25%</th>\n",
       "      <td>71458.500000</td>\n",
       "      <td>25.000000</td>\n",
       "      <td>1.000000</td>\n",
       "      <td>15.000000</td>\n",
       "      <td>0.000000</td>\n",
       "      <td>24398.000000</td>\n",
       "      <td>29.000000</td>\n",
       "      <td>82.000000</td>\n",
       "      <td>0.000000</td>\n",
       "    </tr>\n",
       "    <tr>\n",
       "      <th>50%</th>\n",
       "      <td>142916.000000</td>\n",
       "      <td>36.000000</td>\n",
       "      <td>1.000000</td>\n",
       "      <td>28.000000</td>\n",
       "      <td>0.000000</td>\n",
       "      <td>31646.000000</td>\n",
       "      <td>132.000000</td>\n",
       "      <td>154.000000</td>\n",
       "      <td>0.000000</td>\n",
       "    </tr>\n",
       "    <tr>\n",
       "      <th>75%</th>\n",
       "      <td>214373.500000</td>\n",
       "      <td>49.000000</td>\n",
       "      <td>1.000000</td>\n",
       "      <td>35.000000</td>\n",
       "      <td>1.000000</td>\n",
       "      <td>39377.750000</td>\n",
       "      <td>152.000000</td>\n",
       "      <td>227.000000</td>\n",
       "      <td>0.000000</td>\n",
       "    </tr>\n",
       "    <tr>\n",
       "      <th>max</th>\n",
       "      <td>285831.000000</td>\n",
       "      <td>85.000000</td>\n",
       "      <td>1.000000</td>\n",
       "      <td>52.000000</td>\n",
       "      <td>1.000000</td>\n",
       "      <td>540165.000000</td>\n",
       "      <td>163.000000</td>\n",
       "      <td>299.000000</td>\n",
       "      <td>1.000000</td>\n",
       "    </tr>\n",
       "  </tbody>\n",
       "</table>\n",
       "</div>"
      ],
      "text/plain": [
       "                  id           Umur            SIM    Kode_Daerah  \\\n",
       "count  285831.000000  271617.000000  271427.000000  271525.000000   \n",
       "mean   142916.000000      38.844336       0.997848      26.405410   \n",
       "std     82512.446734      15.522487       0.046335      13.252714   \n",
       "min         1.000000      20.000000       0.000000       0.000000   \n",
       "25%     71458.500000      25.000000       1.000000      15.000000   \n",
       "50%    142916.000000      36.000000       1.000000      28.000000   \n",
       "75%    214373.500000      49.000000       1.000000      35.000000   \n",
       "max    285831.000000      85.000000       1.000000      52.000000   \n",
       "\n",
       "       Sudah_Asuransi          Premi  Kanal_Penjualan  Lama_Berlangganan  \\\n",
       "count   271602.000000  271262.000000    271532.000000      271839.000000   \n",
       "mean         0.458778   30536.683472       112.021567         154.286302   \n",
       "std          0.498299   17155.000770        54.202457          83.694910   \n",
       "min          0.000000    2630.000000         1.000000          10.000000   \n",
       "25%          0.000000   24398.000000        29.000000          82.000000   \n",
       "50%          0.000000   31646.000000       132.000000         154.000000   \n",
       "75%          1.000000   39377.750000       152.000000         227.000000   \n",
       "max          1.000000  540165.000000       163.000000         299.000000   \n",
       "\n",
       "            Tertarik  \n",
       "count  285831.000000  \n",
       "mean        0.122471  \n",
       "std         0.327830  \n",
       "min         0.000000  \n",
       "25%         0.000000  \n",
       "50%         0.000000  \n",
       "75%         0.000000  \n",
       "max         1.000000  "
      ]
     },
     "execution_count": 6,
     "metadata": {},
     "output_type": "execute_result"
    }
   ],
   "source": [
    "df_train.describe()"
   ]
  },
  {
   "cell_type": "markdown",
   "id": "008815cb",
   "metadata": {},
   "source": [
    "### Menghitung jumlah nilai kosong pada setiap kolom dari dataset"
   ]
  },
  {
   "cell_type": "code",
   "execution_count": 7,
   "id": "59b63daf",
   "metadata": {},
   "outputs": [
    {
     "data": {
      "text/plain": [
       "id                       0\n",
       "Jenis_Kelamin        14440\n",
       "Umur                 14214\n",
       "SIM                  14404\n",
       "Kode_Daerah          14306\n",
       "Sudah_Asuransi       14229\n",
       "Umur_Kendaraan       14275\n",
       "Kendaraan_Rusak      14188\n",
       "Premi                14569\n",
       "Kanal_Penjualan      14299\n",
       "Lama_Berlangganan    13992\n",
       "Tertarik                 0\n",
       "dtype: int64"
      ]
     },
     "execution_count": 7,
     "metadata": {},
     "output_type": "execute_result"
    }
   ],
   "source": [
    "df_train.isnull().sum()"
   ]
  },
  {
   "cell_type": "markdown",
   "id": "c6c093ef",
   "metadata": {},
   "source": [
    "Hanya kolom {id} dan {Tertarik} tidak memiliki nilai kosong."
   ]
  },
  {
   "cell_type": "markdown",
   "id": "fb9523d6",
   "metadata": {},
   "source": [
    "### Membersihkan dataset\n",
    "Semua kolom dari dataset yang bernilai null atau kosong akan di buang.\n",
    "Tujuannya supaya dataset yang akan diolah sudah dalam keadaan bersih."
   ]
  },
  {
   "cell_type": "code",
   "execution_count": 8,
   "id": "06c76858",
   "metadata": {},
   "outputs": [
    {
     "data": {
      "text/plain": [
       "(171068, 12)"
      ]
     },
     "execution_count": 8,
     "metadata": {},
     "output_type": "execute_result"
    }
   ],
   "source": [
    "df_train.dropna(inplace = True, axis = 0)\n",
    "df_train.shape"
   ]
  },
  {
   "cell_type": "markdown",
   "id": "e5a91ff7",
   "metadata": {},
   "source": [
    "Sebelum dibersihkan jumlah baris = 285831,\n",
    "Setelah dibersihkan jumlah baris = 171068"
   ]
  },
  {
   "cell_type": "markdown",
   "id": "25172c63",
   "metadata": {},
   "source": [
    "### Membuat index baru\n",
    "Karena kolom {id} penomorannya sudah tidak teratur akibat pembersihan data, maka kolom {id} di drop\n",
    "dan selanjutnya membuat index yang baru."
   ]
  },
  {
   "cell_type": "code",
   "execution_count": 9,
   "id": "97e2eaa0",
   "metadata": {},
   "outputs": [],
   "source": [
    "df_train = df_train.drop([\"id\"], axis = 1)\n",
    "df_train = df_train.reset_index(drop=True)"
   ]
  },
  {
   "cell_type": "code",
   "execution_count": 10,
   "id": "0cf22bfd",
   "metadata": {},
   "outputs": [
    {
     "data": {
      "text/html": [
       "<div>\n",
       "<style scoped>\n",
       "    .dataframe tbody tr th:only-of-type {\n",
       "        vertical-align: middle;\n",
       "    }\n",
       "\n",
       "    .dataframe tbody tr th {\n",
       "        vertical-align: top;\n",
       "    }\n",
       "\n",
       "    .dataframe thead th {\n",
       "        text-align: right;\n",
       "    }\n",
       "</style>\n",
       "<table border=\"1\" class=\"dataframe\">\n",
       "  <thead>\n",
       "    <tr style=\"text-align: right;\">\n",
       "      <th></th>\n",
       "      <th>Jenis_Kelamin</th>\n",
       "      <th>Umur</th>\n",
       "      <th>SIM</th>\n",
       "      <th>Kode_Daerah</th>\n",
       "      <th>Sudah_Asuransi</th>\n",
       "      <th>Umur_Kendaraan</th>\n",
       "      <th>Kendaraan_Rusak</th>\n",
       "      <th>Premi</th>\n",
       "      <th>Kanal_Penjualan</th>\n",
       "      <th>Lama_Berlangganan</th>\n",
       "      <th>Tertarik</th>\n",
       "    </tr>\n",
       "  </thead>\n",
       "  <tbody>\n",
       "    <tr>\n",
       "      <th>0</th>\n",
       "      <td>Wanita</td>\n",
       "      <td>30.0</td>\n",
       "      <td>1.0</td>\n",
       "      <td>33.0</td>\n",
       "      <td>1.0</td>\n",
       "      <td>&lt; 1 Tahun</td>\n",
       "      <td>Tidak</td>\n",
       "      <td>28029.0</td>\n",
       "      <td>152.0</td>\n",
       "      <td>97.0</td>\n",
       "      <td>0</td>\n",
       "    </tr>\n",
       "    <tr>\n",
       "      <th>1</th>\n",
       "      <td>Pria</td>\n",
       "      <td>48.0</td>\n",
       "      <td>1.0</td>\n",
       "      <td>39.0</td>\n",
       "      <td>0.0</td>\n",
       "      <td>&gt; 2 Tahun</td>\n",
       "      <td>Pernah</td>\n",
       "      <td>25800.0</td>\n",
       "      <td>29.0</td>\n",
       "      <td>158.0</td>\n",
       "      <td>0</td>\n",
       "    </tr>\n",
       "    <tr>\n",
       "      <th>2</th>\n",
       "      <td>Wanita</td>\n",
       "      <td>58.0</td>\n",
       "      <td>1.0</td>\n",
       "      <td>48.0</td>\n",
       "      <td>0.0</td>\n",
       "      <td>1-2 Tahun</td>\n",
       "      <td>Tidak</td>\n",
       "      <td>2630.0</td>\n",
       "      <td>124.0</td>\n",
       "      <td>63.0</td>\n",
       "      <td>0</td>\n",
       "    </tr>\n",
       "    <tr>\n",
       "      <th>3</th>\n",
       "      <td>Pria</td>\n",
       "      <td>21.0</td>\n",
       "      <td>1.0</td>\n",
       "      <td>35.0</td>\n",
       "      <td>1.0</td>\n",
       "      <td>&lt; 1 Tahun</td>\n",
       "      <td>Tidak</td>\n",
       "      <td>22735.0</td>\n",
       "      <td>152.0</td>\n",
       "      <td>171.0</td>\n",
       "      <td>0</td>\n",
       "    </tr>\n",
       "    <tr>\n",
       "      <th>4</th>\n",
       "      <td>Wanita</td>\n",
       "      <td>20.0</td>\n",
       "      <td>1.0</td>\n",
       "      <td>8.0</td>\n",
       "      <td>1.0</td>\n",
       "      <td>&lt; 1 Tahun</td>\n",
       "      <td>Tidak</td>\n",
       "      <td>30786.0</td>\n",
       "      <td>160.0</td>\n",
       "      <td>31.0</td>\n",
       "      <td>0</td>\n",
       "    </tr>\n",
       "  </tbody>\n",
       "</table>\n",
       "</div>"
      ],
      "text/plain": [
       "  Jenis_Kelamin  Umur  SIM  Kode_Daerah  Sudah_Asuransi Umur_Kendaraan  \\\n",
       "0        Wanita  30.0  1.0         33.0             1.0      < 1 Tahun   \n",
       "1          Pria  48.0  1.0         39.0             0.0      > 2 Tahun   \n",
       "2        Wanita  58.0  1.0         48.0             0.0      1-2 Tahun   \n",
       "3          Pria  21.0  1.0         35.0             1.0      < 1 Tahun   \n",
       "4        Wanita  20.0  1.0          8.0             1.0      < 1 Tahun   \n",
       "\n",
       "  Kendaraan_Rusak    Premi  Kanal_Penjualan  Lama_Berlangganan  Tertarik  \n",
       "0           Tidak  28029.0            152.0               97.0         0  \n",
       "1          Pernah  25800.0             29.0              158.0         0  \n",
       "2           Tidak   2630.0            124.0               63.0         0  \n",
       "3           Tidak  22735.0            152.0              171.0         0  \n",
       "4           Tidak  30786.0            160.0               31.0         0  "
      ]
     },
     "execution_count": 10,
     "metadata": {},
     "output_type": "execute_result"
    }
   ],
   "source": [
    "df_train.head()"
   ]
  },
  {
   "cell_type": "markdown",
   "id": "a4db168f",
   "metadata": {},
   "source": [
    "Kolom {id} sudah di drop dan dataset sudah memiliki indeks yang baru"
   ]
  },
  {
   "cell_type": "markdown",
   "id": "0cdabc09",
   "metadata": {},
   "source": [
    "### Mengkonversi kolom dengan tipe data objek menjadi numerikal\n",
    "Tujuan: agar pengolahan data mudah dilakukan"
   ]
  },
  {
   "cell_type": "code",
   "execution_count": 11,
   "id": "1aec7e37",
   "metadata": {},
   "outputs": [
    {
     "data": {
      "text/html": [
       "<div>\n",
       "<style scoped>\n",
       "    .dataframe tbody tr th:only-of-type {\n",
       "        vertical-align: middle;\n",
       "    }\n",
       "\n",
       "    .dataframe tbody tr th {\n",
       "        vertical-align: top;\n",
       "    }\n",
       "\n",
       "    .dataframe thead th {\n",
       "        text-align: right;\n",
       "    }\n",
       "</style>\n",
       "<table border=\"1\" class=\"dataframe\">\n",
       "  <thead>\n",
       "    <tr style=\"text-align: right;\">\n",
       "      <th></th>\n",
       "      <th>Jenis_Kelamin</th>\n",
       "      <th>Umur</th>\n",
       "      <th>SIM</th>\n",
       "      <th>Kode_Daerah</th>\n",
       "      <th>Sudah_Asuransi</th>\n",
       "      <th>Umur_Kendaraan</th>\n",
       "      <th>Kendaraan_Rusak</th>\n",
       "      <th>Premi</th>\n",
       "      <th>Kanal_Penjualan</th>\n",
       "      <th>Lama_Berlangganan</th>\n",
       "      <th>Tertarik</th>\n",
       "    </tr>\n",
       "  </thead>\n",
       "  <tbody>\n",
       "    <tr>\n",
       "      <th>0</th>\n",
       "      <td>0</td>\n",
       "      <td>30.0</td>\n",
       "      <td>1.0</td>\n",
       "      <td>33.0</td>\n",
       "      <td>1.0</td>\n",
       "      <td>1</td>\n",
       "      <td>0</td>\n",
       "      <td>28029.0</td>\n",
       "      <td>152.0</td>\n",
       "      <td>97.0</td>\n",
       "      <td>0</td>\n",
       "    </tr>\n",
       "    <tr>\n",
       "      <th>1</th>\n",
       "      <td>1</td>\n",
       "      <td>48.0</td>\n",
       "      <td>1.0</td>\n",
       "      <td>39.0</td>\n",
       "      <td>0.0</td>\n",
       "      <td>3</td>\n",
       "      <td>1</td>\n",
       "      <td>25800.0</td>\n",
       "      <td>29.0</td>\n",
       "      <td>158.0</td>\n",
       "      <td>0</td>\n",
       "    </tr>\n",
       "    <tr>\n",
       "      <th>2</th>\n",
       "      <td>0</td>\n",
       "      <td>58.0</td>\n",
       "      <td>1.0</td>\n",
       "      <td>48.0</td>\n",
       "      <td>0.0</td>\n",
       "      <td>2</td>\n",
       "      <td>0</td>\n",
       "      <td>2630.0</td>\n",
       "      <td>124.0</td>\n",
       "      <td>63.0</td>\n",
       "      <td>0</td>\n",
       "    </tr>\n",
       "    <tr>\n",
       "      <th>3</th>\n",
       "      <td>1</td>\n",
       "      <td>21.0</td>\n",
       "      <td>1.0</td>\n",
       "      <td>35.0</td>\n",
       "      <td>1.0</td>\n",
       "      <td>1</td>\n",
       "      <td>0</td>\n",
       "      <td>22735.0</td>\n",
       "      <td>152.0</td>\n",
       "      <td>171.0</td>\n",
       "      <td>0</td>\n",
       "    </tr>\n",
       "    <tr>\n",
       "      <th>4</th>\n",
       "      <td>0</td>\n",
       "      <td>20.0</td>\n",
       "      <td>1.0</td>\n",
       "      <td>8.0</td>\n",
       "      <td>1.0</td>\n",
       "      <td>1</td>\n",
       "      <td>0</td>\n",
       "      <td>30786.0</td>\n",
       "      <td>160.0</td>\n",
       "      <td>31.0</td>\n",
       "      <td>0</td>\n",
       "    </tr>\n",
       "  </tbody>\n",
       "</table>\n",
       "</div>"
      ],
      "text/plain": [
       "   Jenis_Kelamin  Umur  SIM  Kode_Daerah  Sudah_Asuransi  Umur_Kendaraan  \\\n",
       "0              0  30.0  1.0         33.0             1.0               1   \n",
       "1              1  48.0  1.0         39.0             0.0               3   \n",
       "2              0  58.0  1.0         48.0             0.0               2   \n",
       "3              1  21.0  1.0         35.0             1.0               1   \n",
       "4              0  20.0  1.0          8.0             1.0               1   \n",
       "\n",
       "   Kendaraan_Rusak    Premi  Kanal_Penjualan  Lama_Berlangganan  Tertarik  \n",
       "0                0  28029.0            152.0               97.0         0  \n",
       "1                1  25800.0             29.0              158.0         0  \n",
       "2                0   2630.0            124.0               63.0         0  \n",
       "3                0  22735.0            152.0              171.0         0  \n",
       "4                0  30786.0            160.0               31.0         0  "
      ]
     },
     "execution_count": 11,
     "metadata": {},
     "output_type": "execute_result"
    }
   ],
   "source": [
    "#Jenis Kelamin\n",
    "df_train[\"Jenis_Kelamin\"] = df_train[\"Jenis_Kelamin\"].replace([\"Pria\", \"Wanita\"], [1,0])\n",
    "\n",
    "#Umur Kendaraan\n",
    "df_train[\"Umur_Kendaraan\"] = df_train[\"Umur_Kendaraan\"].replace([\"< 1 Tahun\", \"> 2 Tahun\", \"1-2 Tahun\"], [1,3,2])\n",
    "\n",
    "#Kendaraan Rusak\n",
    "df_train[\"Kendaraan_Rusak\"] = df_train[\"Kendaraan_Rusak\"].replace([\"Pernah\", \"Tidak\"], [1,0])\n",
    "\n",
    "df_train.head()"
   ]
  },
  {
   "cell_type": "markdown",
   "id": "6f974a13",
   "metadata": {},
   "source": [
    "### Keterangan:\n",
    "##### Jenis_Kelamin: 0 - Wanita, 1 - Pria\n",
    "##### Umur_Kendaraan: 1 : \"< 1 Tahun\", 2 : \"1-2 Tahun\", 3 : \"> 2 Tahun\"\n",
    "##### Kendaraan_Rusak: 0 : \"Tidak, 1 : \"Pernah\""
   ]
  },
  {
   "cell_type": "markdown",
   "id": "41ded36e",
   "metadata": {},
   "source": [
    "### Export Dataset"
   ]
  },
  {
   "cell_type": "code",
   "execution_count": 12,
   "id": "9c1f1939",
   "metadata": {},
   "outputs": [],
   "source": [
    "df_train.to_csv('.\\datasets\\kendaraan_train_new.csv')"
   ]
  },
  {
   "cell_type": "markdown",
   "id": "7aeeebca",
   "metadata": {},
   "source": [
    "### Men - scalling dataset\n",
    "Tujuan: supaya seluruh kolom dalam dataset berada dalam jangkauan yang sama."
   ]
  },
  {
   "cell_type": "code",
   "execution_count": 13,
   "id": "1808a165",
   "metadata": {},
   "outputs": [
    {
     "data": {
      "text/html": [
       "<div>\n",
       "<style scoped>\n",
       "    .dataframe tbody tr th:only-of-type {\n",
       "        vertical-align: middle;\n",
       "    }\n",
       "\n",
       "    .dataframe tbody tr th {\n",
       "        vertical-align: top;\n",
       "    }\n",
       "\n",
       "    .dataframe thead th {\n",
       "        text-align: right;\n",
       "    }\n",
       "</style>\n",
       "<table border=\"1\" class=\"dataframe\">\n",
       "  <thead>\n",
       "    <tr style=\"text-align: right;\">\n",
       "      <th></th>\n",
       "      <th>Jenis_Kelamin</th>\n",
       "      <th>Umur</th>\n",
       "      <th>SIM</th>\n",
       "      <th>Kode_Daerah</th>\n",
       "      <th>Sudah_Asuransi</th>\n",
       "      <th>Umur_Kendaraan</th>\n",
       "      <th>Kendaraan_Rusak</th>\n",
       "      <th>Premi</th>\n",
       "      <th>Kanal_Penjualan</th>\n",
       "      <th>Lama_Berlangganan</th>\n",
       "      <th>Tertarik</th>\n",
       "    </tr>\n",
       "  </thead>\n",
       "  <tbody>\n",
       "    <tr>\n",
       "      <th>0</th>\n",
       "      <td>0.0</td>\n",
       "      <td>0.153846</td>\n",
       "      <td>1.0</td>\n",
       "      <td>0.634615</td>\n",
       "      <td>1.0</td>\n",
       "      <td>0.0</td>\n",
       "      <td>0.0</td>\n",
       "      <td>0.047251</td>\n",
       "      <td>0.932099</td>\n",
       "      <td>0.301038</td>\n",
       "      <td>0.0</td>\n",
       "    </tr>\n",
       "    <tr>\n",
       "      <th>1</th>\n",
       "      <td>1.0</td>\n",
       "      <td>0.430769</td>\n",
       "      <td>1.0</td>\n",
       "      <td>0.750000</td>\n",
       "      <td>0.0</td>\n",
       "      <td>1.0</td>\n",
       "      <td>1.0</td>\n",
       "      <td>0.043104</td>\n",
       "      <td>0.172840</td>\n",
       "      <td>0.512111</td>\n",
       "      <td>0.0</td>\n",
       "    </tr>\n",
       "    <tr>\n",
       "      <th>2</th>\n",
       "      <td>0.0</td>\n",
       "      <td>0.584615</td>\n",
       "      <td>1.0</td>\n",
       "      <td>0.923077</td>\n",
       "      <td>0.0</td>\n",
       "      <td>0.5</td>\n",
       "      <td>0.0</td>\n",
       "      <td>0.000000</td>\n",
       "      <td>0.759259</td>\n",
       "      <td>0.183391</td>\n",
       "      <td>0.0</td>\n",
       "    </tr>\n",
       "    <tr>\n",
       "      <th>3</th>\n",
       "      <td>1.0</td>\n",
       "      <td>0.015385</td>\n",
       "      <td>1.0</td>\n",
       "      <td>0.673077</td>\n",
       "      <td>1.0</td>\n",
       "      <td>0.0</td>\n",
       "      <td>0.0</td>\n",
       "      <td>0.037402</td>\n",
       "      <td>0.932099</td>\n",
       "      <td>0.557093</td>\n",
       "      <td>0.0</td>\n",
       "    </tr>\n",
       "    <tr>\n",
       "      <th>4</th>\n",
       "      <td>0.0</td>\n",
       "      <td>0.000000</td>\n",
       "      <td>1.0</td>\n",
       "      <td>0.153846</td>\n",
       "      <td>1.0</td>\n",
       "      <td>0.0</td>\n",
       "      <td>0.0</td>\n",
       "      <td>0.052380</td>\n",
       "      <td>0.981481</td>\n",
       "      <td>0.072664</td>\n",
       "      <td>0.0</td>\n",
       "    </tr>\n",
       "    <tr>\n",
       "      <th>...</th>\n",
       "      <td>...</td>\n",
       "      <td>...</td>\n",
       "      <td>...</td>\n",
       "      <td>...</td>\n",
       "      <td>...</td>\n",
       "      <td>...</td>\n",
       "      <td>...</td>\n",
       "      <td>...</td>\n",
       "      <td>...</td>\n",
       "      <td>...</td>\n",
       "      <td>...</td>\n",
       "    </tr>\n",
       "    <tr>\n",
       "      <th>171063</th>\n",
       "      <td>0.0</td>\n",
       "      <td>0.046154</td>\n",
       "      <td>1.0</td>\n",
       "      <td>0.076923</td>\n",
       "      <td>1.0</td>\n",
       "      <td>0.0</td>\n",
       "      <td>0.0</td>\n",
       "      <td>0.043454</td>\n",
       "      <td>0.932099</td>\n",
       "      <td>0.716263</td>\n",
       "      <td>0.0</td>\n",
       "    </tr>\n",
       "    <tr>\n",
       "      <th>171064</th>\n",
       "      <td>0.0</td>\n",
       "      <td>0.015385</td>\n",
       "      <td>1.0</td>\n",
       "      <td>0.884615</td>\n",
       "      <td>1.0</td>\n",
       "      <td>0.0</td>\n",
       "      <td>0.0</td>\n",
       "      <td>0.078239</td>\n",
       "      <td>0.932099</td>\n",
       "      <td>0.138408</td>\n",
       "      <td>0.0</td>\n",
       "    </tr>\n",
       "    <tr>\n",
       "      <th>171065</th>\n",
       "      <td>0.0</td>\n",
       "      <td>0.046154</td>\n",
       "      <td>1.0</td>\n",
       "      <td>0.961538</td>\n",
       "      <td>1.0</td>\n",
       "      <td>0.0</td>\n",
       "      <td>0.0</td>\n",
       "      <td>0.087661</td>\n",
       "      <td>0.932099</td>\n",
       "      <td>0.747405</td>\n",
       "      <td>0.0</td>\n",
       "    </tr>\n",
       "    <tr>\n",
       "      <th>171066</th>\n",
       "      <td>1.0</td>\n",
       "      <td>0.738462</td>\n",
       "      <td>1.0</td>\n",
       "      <td>0.134615</td>\n",
       "      <td>1.0</td>\n",
       "      <td>0.5</td>\n",
       "      <td>0.0</td>\n",
       "      <td>0.051853</td>\n",
       "      <td>0.759259</td>\n",
       "      <td>0.899654</td>\n",
       "      <td>0.0</td>\n",
       "    </tr>\n",
       "    <tr>\n",
       "      <th>171067</th>\n",
       "      <td>1.0</td>\n",
       "      <td>0.384615</td>\n",
       "      <td>1.0</td>\n",
       "      <td>0.538462</td>\n",
       "      <td>0.0</td>\n",
       "      <td>0.5</td>\n",
       "      <td>1.0</td>\n",
       "      <td>0.062973</td>\n",
       "      <td>0.154321</td>\n",
       "      <td>0.117647</td>\n",
       "      <td>0.0</td>\n",
       "    </tr>\n",
       "  </tbody>\n",
       "</table>\n",
       "<p>171068 rows × 11 columns</p>\n",
       "</div>"
      ],
      "text/plain": [
       "        Jenis_Kelamin      Umur  SIM  Kode_Daerah  Sudah_Asuransi  \\\n",
       "0                 0.0  0.153846  1.0     0.634615             1.0   \n",
       "1                 1.0  0.430769  1.0     0.750000             0.0   \n",
       "2                 0.0  0.584615  1.0     0.923077             0.0   \n",
       "3                 1.0  0.015385  1.0     0.673077             1.0   \n",
       "4                 0.0  0.000000  1.0     0.153846             1.0   \n",
       "...               ...       ...  ...          ...             ...   \n",
       "171063            0.0  0.046154  1.0     0.076923             1.0   \n",
       "171064            0.0  0.015385  1.0     0.884615             1.0   \n",
       "171065            0.0  0.046154  1.0     0.961538             1.0   \n",
       "171066            1.0  0.738462  1.0     0.134615             1.0   \n",
       "171067            1.0  0.384615  1.0     0.538462             0.0   \n",
       "\n",
       "        Umur_Kendaraan  Kendaraan_Rusak     Premi  Kanal_Penjualan  \\\n",
       "0                  0.0              0.0  0.047251         0.932099   \n",
       "1                  1.0              1.0  0.043104         0.172840   \n",
       "2                  0.5              0.0  0.000000         0.759259   \n",
       "3                  0.0              0.0  0.037402         0.932099   \n",
       "4                  0.0              0.0  0.052380         0.981481   \n",
       "...                ...              ...       ...              ...   \n",
       "171063             0.0              0.0  0.043454         0.932099   \n",
       "171064             0.0              0.0  0.078239         0.932099   \n",
       "171065             0.0              0.0  0.087661         0.932099   \n",
       "171066             0.5              0.0  0.051853         0.759259   \n",
       "171067             0.5              1.0  0.062973         0.154321   \n",
       "\n",
       "        Lama_Berlangganan  Tertarik  \n",
       "0                0.301038       0.0  \n",
       "1                0.512111       0.0  \n",
       "2                0.183391       0.0  \n",
       "3                0.557093       0.0  \n",
       "4                0.072664       0.0  \n",
       "...                   ...       ...  \n",
       "171063           0.716263       0.0  \n",
       "171064           0.138408       0.0  \n",
       "171065           0.747405       0.0  \n",
       "171066           0.899654       0.0  \n",
       "171067           0.117647       0.0  \n",
       "\n",
       "[171068 rows x 11 columns]"
      ]
     },
     "execution_count": 13,
     "metadata": {},
     "output_type": "execute_result"
    }
   ],
   "source": [
    "from sklearn.preprocessing import MinMaxScaler\n",
    "\n",
    "scaler = MinMaxScaler()\n",
    "df_train = pd.DataFrame(scaler.fit_transform(df_train), columns=df_train.columns)\n",
    "df_train"
   ]
  },
  {
   "cell_type": "markdown",
   "id": "e0a983bb",
   "metadata": {},
   "source": [
    "### Membuat Korelasi antar Kolom / Variabel\n",
    "Tujuan: memperoleh hubungan antar variabel dengan variabel lainnya, supaya dapat menentukan kolom yang akan dibuat\n",
    "clustering."
   ]
  },
  {
   "cell_type": "code",
   "execution_count": 14,
   "id": "97a412a8",
   "metadata": {},
   "outputs": [
    {
     "data": {
      "image/png": "[encoded data removed]",
      "text/plain": [
       "<Figure size 1080x360 with 2 Axes>"
      ]
     },
     "metadata": {
      "needs_background": "light"
     },
     "output_type": "display_data"
    }
   ],
   "source": [
    "plt.figure(figsize=(15, 5))\n",
    "sns.heatmap(df_train.corr(), annot = True,linewidths=.5)\n",
    "plt.title(\"Korelasi Antar Variabel Dengan Representasi Angka\",y=1.1)\n",
    "plt.show()"
   ]
  },
  {
   "cell_type": "markdown",
   "id": "253512c9",
   "metadata": {},
   "source": [
    "### Tahap: Splitting Dataset\n",
    "###### Tujuan: Menentukan data mana yang akan dijadikan feature dan target.\n",
    "###### feature : diambil dari kolom Umur\n",
    "###### target : diambil dari kolom Kanal_Penjualan"
   ]
  },
  {
   "cell_type": "code",
   "execution_count": 15,
   "id": "75ddb940",
   "metadata": {},
   "outputs": [
    {
     "data": {
      "text/plain": [
       "array([[0.15384615, 0.93209877],\n",
       "       [0.43076923, 0.17283951],\n",
       "       [0.58461538, 0.75925926],\n",
       "       ...,\n",
       "       [0.04615385, 0.93209877],\n",
       "       [0.73846154, 0.75925926],\n",
       "       [0.38461538, 0.15432099]])"
      ]
     },
     "execution_count": 15,
     "metadata": {},
     "output_type": "execute_result"
    }
   ],
   "source": [
    "x = df_train.iloc[:, [1,8]].values\n",
    "x"
   ]
  },
  {
   "cell_type": "markdown",
   "id": "71810cb7",
   "metadata": {},
   "source": [
    "x adalah variabel array 2 Dimensi"
   ]
  },
  {
   "cell_type": "markdown",
   "id": "ef904c25",
   "metadata": {},
   "source": [
    "### Menampilkan Visualisasi Data Sebaran Umur dan Kanal_Penjualan"
   ]
  },
  {
   "cell_type": "code",
   "execution_count": 16,
   "id": "7aaa27ff",
   "metadata": {},
   "outputs": [
    {
     "data": {
      "image/png": "[encoded data removed]",
      "text/plain": [
       "<Figure size 432x288 with 1 Axes>"
      ]
     },
     "metadata": {
      "needs_background": "light"
     },
     "output_type": "display_data"
    }
   ],
   "source": [
    "plt.scatter(x[:,0],x[:,1], color='green')\n",
    "plt.title(\"Sebaran Data Umur dan Kanal Penjualan\")\n",
    "plt.xlabel(\"Umur\")\n",
    "plt.ylabel(\"Kanal_Penjualan\")\n",
    "plt.grid(True)"
   ]
  },
  {
   "cell_type": "markdown",
   "id": "a0500ecf",
   "metadata": {},
   "source": [
    "### Tahap: Pemodelan"
   ]
  },
  {
   "cell_type": "markdown",
   "id": "be3486d9",
   "metadata": {},
   "source": [
    "##### Menghitung jarak dengan menggunakan Euclidean Distance"
   ]
  },
  {
   "cell_type": "code",
   "execution_count": 17,
   "id": "a7d4a7e1",
   "metadata": {},
   "outputs": [],
   "source": [
    "def euclidean_distance(x1,x2):\n",
    "    return (sum((x1 - x2)**2)**0.5)"
   ]
  },
  {
   "cell_type": "markdown",
   "id": "3af60875",
   "metadata": {},
   "source": [
    "##### Membuat fungsi untuk mengelompokkan data kedalam cluster\n",
    "Mengembalikan list yang berisi cluster dari setiap dataset"
   ]
  },
  {
   "cell_type": "code",
   "execution_count": 18,
   "id": "a45e0487",
   "metadata": {},
   "outputs": [],
   "source": [
    "def clustering(centroids, x):\n",
    "    clusters = []\n",
    "    for i in range(len(x)):\n",
    "        jarak = []\n",
    "        for centroid in centroids:\n",
    "            jarak.append(euclidean_distance(centroid, x[i]))\n",
    "        jarak_min = [z for z, val in enumerate(jarak) if val==min(jarak)]\n",
    "        clusters.append(jarak_min[0])\n",
    "    return np.array(clusters)"
   ]
  },
  {
   "cell_type": "markdown",
   "id": "2ca951b3",
   "metadata": {},
   "source": [
    "###### Keterangan:\n",
    "###### 1. --baris 2, membuat array cluster dari tiap observasi\n",
    "###### 2. --baris 4, inisialisasi jarak\n",
    "###### 3. --baris 6, membuat array jarak untuk menampung jarak antara setiap baris data obervasi dengan setiap centroid.\n",
    "###### 4. --baris 7, membuat variabel jarak_min yang menyimpan indeks dari nilai terkecil variabel jarak.\n",
    "###### 5. --baris 8, indeks dari jarak terpendek adalah cluster dari data observasi. \n",
    "###### 6. --baris 9, indeks ini akan disimpan dalam array cluster"
   ]
  },
  {
   "cell_type": "markdown",
   "id": "4c3929e2",
   "metadata": {},
   "source": [
    "##### Membuat fungsi untuk membuat centroid baru"
   ]
  },
  {
   "cell_type": "code",
   "execution_count": 19,
   "id": "d51795c9",
   "metadata": {},
   "outputs": [],
   "source": [
    "def create_centroid(clusters, x):\n",
    "    new_centroid = []\n",
    "    df_clusters_x = pd.concat([pd.DataFrame(x),pd.DataFrame(clusters, columns=['cluster'])], axis=1)\n",
    "    for c in set(df_clusters_x['cluster']):\n",
    "        df_current_cluster = df_clusters_x[df_clusters_x['cluster']==c][df_clusters_x.columns[:-1]]\n",
    "        average_cluster = df_current_cluster.mean(axis=0)\n",
    "        new_centroid.append(average_cluster)\n",
    "    return np.array(new_centroid)"
   ]
  },
  {
   "cell_type": "markdown",
   "id": "5f35d834",
   "metadata": {},
   "source": [
    "##### Keterangan:\n",
    "##### 1. -- baris 2,  inisialisasi new_centroid\n",
    "##### 2. -- baris 3, untuk mendapatkan new_centroid, mula-mula dibuat dataframe yang berisi 2 kolom feature dari: data observasi dan 1 kolom yang berisi cluster dari data tersebut.\n",
    "##### 3. -- baris 4, Looping sebanyak jumlah cluster pada kolom cluster dataframe.\n",
    "##### 4. -- baris 5-6, Di dalam looping dilakukan proses perhitungan rata-rata cluster dengan menghitung rata-rata dataframe yang berisi data observasi ke[i]\n",
    "##### 5. -- baris 7, rata-rata cluster akan di simpan ke dalam variabel new_centroid. Variabel ini akan berisi array 2 dimensi yang berisi rata-rata dari data observasi.\n"
   ]
  },
  {
   "cell_type": "markdown",
   "id": "ed10b2d9",
   "metadata": {},
   "source": [
    "### Menghitung varian\n",
    "##### Dasar penghitungan varian adalah untuk mengetahui keragaman suatu kelompok data."
   ]
  },
  {
   "attachments": {
    "image-5.png": {
     "image/png": "[encoded data removed]"
    }
   },
   "cell_type": "markdown",
   "id": "7991698d",
   "metadata": {},
   "source": [
    "![image-5.png](attachment:image-5.png)"
   ]
  },
  {
   "cell_type": "code",
   "execution_count": 20,
   "id": "645593e2",
   "metadata": {},
   "outputs": [],
   "source": [
    "def varians_cluster(clusters, x):\n",
    "    varians = []\n",
    "    df_clusters_x = pd.concat([pd.DataFrame(x),pd.DataFrame(clusters, columns=['cluster'])], axis=1)\n",
    "    for c in set(df_clusters_x['cluster']):\n",
    "        df_current_cluster = df_clusters_x[df_clusters_x['cluster'] ==c][df_clusters_x.columns[:-1]]\n",
    "        average_cluster = df_current_cluster.mean(axis=0)\n",
    "        mean_repmat = np.matlib.repmat(average_cluster, df_current_cluster.shape[0],1)\n",
    "        varians.append(np.sum(np.sum((df_current_cluster - mean_repmat)**2)))\n",
    "    return np.array(varians)"
   ]
  },
  {
   "cell_type": "markdown",
   "id": "0f902191",
   "metadata": {},
   "source": [
    "##### Keterangan:\n",
    "##### -- baris 2, inisialisasi variabel varian\n",
    "##### -- baris 3, menampung data observasi dan cluster pada sebuah variabel variabel dataframe\n",
    "##### -- baris 4, looping sebanyak cluster pada kolom cluster dataframe\n",
    "##### -- baris 5, mengambil nilai data observasi ke i\n",
    "##### -- baris 6, menghitung rata-rata cluster\n",
    "##### -- baris 7, membuat duplikat array dengan menggunakan fungsi repmat\n",
    "##### -- baris 8, diperoleh data varian dengan cara menghitung seluruh data observasi dan mengurangkannya dengan rata-rata cluster."
   ]
  },
  {
   "cell_type": "markdown",
   "id": "b3165d7f",
   "metadata": {},
   "source": [
    "##### WCSS ( Within-Cluster Sum of Square ) = SSE (Sum of Square Error)\n",
    "Metode Elbow adalah untuk menghasilkan informasi dengan cara melihat perbandingan hasil antara jumlah cluster yang akan\n",
    "membentuk suatu titik terakhir. Cluster nilai akan digunakan sebagai model data untuk cluster terbaik.\n",
    "Selain itu, hasil perhitungan akan digunakan untuk membandingkan jumlah cluster."
   ]
  },
  {
   "attachments": {
    "image-2.png": {
     "image/png": "[encoded data removed]"
    },
    "image-3.png": {
     "image/png": "[encoded data removed]"
    }
   },
   "cell_type": "markdown",
   "id": "9c36cbb0",
   "metadata": {},
   "source": [
    "![image-2.png](attachment:image-2.png)![image-3.png](attachment:image-3.png)"
   ]
  },
  {
   "cell_type": "code",
   "execution_count": 21,
   "id": "c2248eaf",
   "metadata": {},
   "outputs": [],
   "source": [
    "def elbow_method(SSE, k):\n",
    "    plt.plot(range(1,k+1),SSE)\n",
    "    plt.title('The Elbow Method')\n",
    "    plt.xlabel(\"Jumlah Cluster\")\n",
    "    plt.ylabel(\"SSE\")\n",
    "    plt.show()"
   ]
  },
  {
   "cell_type": "markdown",
   "id": "381ee6f7",
   "metadata": {},
   "source": [
    "##### K-Means Clustering\n",
    "Metode K-Means Clustering berusaha mengelompokkan data yang ada ke dalam beberapa kelompok, dimana data dalam satu kelompok mempunyai karakteristik yang sama satu sama lainnya dan mempunyai karakteristik yang berbeda dengan data yang ada di dalam kelompok yang lain."
   ]
  },
  {
   "cell_type": "code",
   "execution_count": 22,
   "id": "55371d3f",
   "metadata": {},
   "outputs": [
    {
     "name": "stdout",
     "output_type": "stream",
     "text": [
      "Varian cluster awal 2255 pada K: 1\n",
      "Varian pada percobaan clustering Ke- 1 1764\n",
      "Varian pada percobaan clustering Ke- 2 1087\n",
      "SSE Cluster dengan K = 1 : 2851 \n",
      "\n",
      "Varian cluster awal 1087 pada K: 2\n",
      "Varian pada percobaan clustering Ke- 1 558\n",
      "Varian pada percobaan clustering Ke- 2 507\n",
      "SSE Cluster dengan K = 2 : 1065 \n",
      "\n",
      "Varian cluster awal 507 pada K: 3\n",
      "Varian pada percobaan clustering Ke- 1 484\n",
      "Varian pada percobaan clustering Ke- 2 460\n",
      "SSE Cluster dengan K = 3 : 944 \n",
      "\n",
      "Varian cluster awal 460 pada K: 4\n",
      "Varian pada percobaan clustering Ke- 1 439\n",
      "Varian pada percobaan clustering Ke- 2 415\n",
      "SSE Cluster dengan K = 4 : 854 \n",
      "\n",
      "Varian cluster awal 415 pada K: 5\n",
      "Varian pada percobaan clustering Ke- 1 396\n",
      "Varian pada percobaan clustering Ke- 2 381\n",
      "SSE Cluster dengan K = 5 : 778 \n",
      "\n"
     ]
    },
    {
     "data": {
      "image/png": "[encoded data removed]",
      "text/plain": [
       "<Figure size 432x288 with 1 Axes>"
      ]
     },
     "metadata": {
      "needs_background": "light"
     },
     "output_type": "display_data"
    }
   ],
   "source": [
    "k = 5\n",
    "SSE = []\n",
    "centroid_awal = np.random.choice(len(x), k, replace=False)\n",
    "centroids = x[centroid_awal, :]\n",
    "#Looping K\n",
    "for i in range (1,k+1):\n",
    "    variansCluster = []\n",
    "    clusters = clustering(centroids, x)\n",
    "    print(\"Varian cluster awal\", round(np.mean(varians_cluster(clusters, x))), \"pada K:\",i )\n",
    "    \n",
    "    #Looping Percobaan Clustering\n",
    "    for j in range(2):\n",
    "        centroids = create_centroid(clusters,x)\n",
    "        clusters = clustering(centroids, x)\n",
    "        cluster_var = np.mean(varians_cluster(clusters, x))\n",
    "        variansCluster.append(cluster_var)\n",
    "        print(\"Varian pada percobaan clustering Ke-\",j+1, round(cluster_var))\n",
    "    SSE.append(np.sum(variansCluster))\n",
    "    print(\"SSE Cluster dengan K =\",i,\":\",round(SSE[i-1]),\"\\n\")\n",
    "\n",
    "elbow_method(SSE,k)"
   ]
  },
  {
   "cell_type": "markdown",
   "id": "b0ab11c9",
   "metadata": {},
   "source": [
    "##### Tahap Visualisasi"
   ]
  },
  {
   "cell_type": "code",
   "execution_count": 23,
   "id": "04975877",
   "metadata": {},
   "outputs": [
    {
     "data": {
      "image/png": "[encoded data removed]",
      "text/plain": [
       "<Figure size 432x288 with 1 Axes>"
      ]
     },
     "metadata": {
      "needs_background": "light"
     },
     "output_type": "display_data"
    }
   ],
   "source": [
    "df_clusters_x = pd.concat([pd.DataFrame(x),pd.DataFrame(clusters, columns=['cluster'])], axis=1)\n",
    "label = df_clusters_x['cluster']\n",
    "u_labels = np.unique(label)\n",
    "for i in range(len(u_labels)):\n",
    "    plt.scatter(x[label == i , 0] , x[label == i , 1] , label = i+1, s = 100)\n",
    "plt.scatter(centroids[:,0], centroids[:,1], marker = 'P', s = 100, label = 'Centroids')\n",
    "plt.title('K-Means Clustering dengan {} cluster'.format(k))\n",
    "plt.legend(bbox_to_anchor=(1, 1), title = 'Clusters')\n",
    "plt.grid(True)\n",
    "plt.show()"
   ]
  },
  {
   "cell_type": "markdown",
   "id": "6477233b",
   "metadata": {},
   "source": [
    "##### Pengujian dengan Silhouette Method\n",
    "Pengujian model ini dilakukan untuk mengetahui seberapa dekat relasi antara objek dalam sebuah cluster dan seberapa jauh sebuah cluster terpisah dengan cluster lain. Hasil perhitungan nilai silhoutte coeffisien dapat bervariasi antara -1 hingga 1. Jika bernilai positif atau mendekati angka 1 maka di asumsikan bahwa data/objek sudah berada dalam cluster yang tepat."
   ]
  },
  {
   "cell_type": "code",
   "execution_count": 24,
   "id": "f93a472b",
   "metadata": {
    "scrolled": true
   },
   "outputs": [
    {
     "name": "stdout",
     "output_type": "stream",
     "text": [
      "Nilai Silhoutte Method untuk, n_clusters = 1 adalah 0.9042165693158712\n",
      "Nilai Silhoutte Method untuk, n_clusters = 2 adalah 0.9042165693158712\n",
      "Nilai Silhoutte Method untuk, n_clusters = 3 adalah 0.9042165693158712\n",
      "Nilai Silhoutte Method untuk, n_clusters = 4 adalah 0.9042165693158712\n",
      "Nilai Silhoutte Method untuk, n_clusters = 5 adalah 0.9042165693158712\n",
      "Wall time: 19min 48s\n"
     ]
    }
   ],
   "source": [
    "%%time\n",
    "from sklearn.metrics import silhouette_score\n",
    "\n",
    "skor_silhouette = []\n",
    "\n",
    "for n_cluster in range(k):\n",
    "    koefisien_silhouette = silhouette_score(df_clusters_x, df_clusters_x['cluster'], metric = 'euclidean')\n",
    "    skor_silhouette.append(koefisien_silhouette)\n",
    "    print('Nilai Silhoutte Method untuk, n_clusters = {} adalah {}'.format(n_cluster+1, koefisien_silhouette))"
   ]
  },
  {
   "cell_type": "markdown",
   "id": "24a2ef0c",
   "metadata": {},
   "source": [
    "## Tahap Eksperimen\n",
    "1. Menggunakan dataset train (\"kendaraan_train.csv\")\n",
    "2. Scalling dengan menggunakan StandardScaler\n",
    "3. Menggunakan Principal Component Analysis (PCA) dalam pemilihan feature\n",
    "4. Jumlah cluster k = 5"
   ]
  },
  {
   "cell_type": "markdown",
   "id": "bdbcfe81",
   "metadata": {},
   "source": [
    "##### Import Dataset"
   ]
  },
  {
   "cell_type": "code",
   "execution_count": 25,
   "id": "e55396a3",
   "metadata": {},
   "outputs": [],
   "source": [
    "df_train_eks = pd.read_csv(\".\\datasets\\kendaraan_train.csv\")"
   ]
  },
  {
   "cell_type": "markdown",
   "id": "93b8701f",
   "metadata": {},
   "source": [
    "##### Menampilkan Preview Dataset"
   ]
  },
  {
   "cell_type": "code",
   "execution_count": 26,
   "id": "7f62d191",
   "metadata": {},
   "outputs": [
    {
     "data": {
      "text/html": [
       "<div>\n",
       "<style scoped>\n",
       "    .dataframe tbody tr th:only-of-type {\n",
       "        vertical-align: middle;\n",
       "    }\n",
       "\n",
       "    .dataframe tbody tr th {\n",
       "        vertical-align: top;\n",
       "    }\n",
       "\n",
       "    .dataframe thead th {\n",
       "        text-align: right;\n",
       "    }\n",
       "</style>\n",
       "<table border=\"1\" class=\"dataframe\">\n",
       "  <thead>\n",
       "    <tr style=\"text-align: right;\">\n",
       "      <th></th>\n",
       "      <th>id</th>\n",
       "      <th>Jenis_Kelamin</th>\n",
       "      <th>Umur</th>\n",
       "      <th>SIM</th>\n",
       "      <th>Kode_Daerah</th>\n",
       "      <th>Sudah_Asuransi</th>\n",
       "      <th>Umur_Kendaraan</th>\n",
       "      <th>Kendaraan_Rusak</th>\n",
       "      <th>Premi</th>\n",
       "      <th>Kanal_Penjualan</th>\n",
       "      <th>Lama_Berlangganan</th>\n",
       "      <th>Tertarik</th>\n",
       "    </tr>\n",
       "  </thead>\n",
       "  <tbody>\n",
       "    <tr>\n",
       "      <th>0</th>\n",
       "      <td>1</td>\n",
       "      <td>Wanita</td>\n",
       "      <td>30.0</td>\n",
       "      <td>1.0</td>\n",
       "      <td>33.0</td>\n",
       "      <td>1.0</td>\n",
       "      <td>&lt; 1 Tahun</td>\n",
       "      <td>Tidak</td>\n",
       "      <td>28029.0</td>\n",
       "      <td>152.0</td>\n",
       "      <td>97.0</td>\n",
       "      <td>0</td>\n",
       "    </tr>\n",
       "    <tr>\n",
       "      <th>1</th>\n",
       "      <td>2</td>\n",
       "      <td>Pria</td>\n",
       "      <td>48.0</td>\n",
       "      <td>1.0</td>\n",
       "      <td>39.0</td>\n",
       "      <td>0.0</td>\n",
       "      <td>&gt; 2 Tahun</td>\n",
       "      <td>Pernah</td>\n",
       "      <td>25800.0</td>\n",
       "      <td>29.0</td>\n",
       "      <td>158.0</td>\n",
       "      <td>0</td>\n",
       "    </tr>\n",
       "    <tr>\n",
       "      <th>2</th>\n",
       "      <td>3</td>\n",
       "      <td>NaN</td>\n",
       "      <td>21.0</td>\n",
       "      <td>1.0</td>\n",
       "      <td>46.0</td>\n",
       "      <td>1.0</td>\n",
       "      <td>&lt; 1 Tahun</td>\n",
       "      <td>Tidak</td>\n",
       "      <td>32733.0</td>\n",
       "      <td>160.0</td>\n",
       "      <td>119.0</td>\n",
       "      <td>0</td>\n",
       "    </tr>\n",
       "    <tr>\n",
       "      <th>3</th>\n",
       "      <td>4</td>\n",
       "      <td>Wanita</td>\n",
       "      <td>58.0</td>\n",
       "      <td>1.0</td>\n",
       "      <td>48.0</td>\n",
       "      <td>0.0</td>\n",
       "      <td>1-2 Tahun</td>\n",
       "      <td>Tidak</td>\n",
       "      <td>2630.0</td>\n",
       "      <td>124.0</td>\n",
       "      <td>63.0</td>\n",
       "      <td>0</td>\n",
       "    </tr>\n",
       "    <tr>\n",
       "      <th>4</th>\n",
       "      <td>5</td>\n",
       "      <td>Pria</td>\n",
       "      <td>50.0</td>\n",
       "      <td>1.0</td>\n",
       "      <td>35.0</td>\n",
       "      <td>0.0</td>\n",
       "      <td>&gt; 2 Tahun</td>\n",
       "      <td>NaN</td>\n",
       "      <td>34857.0</td>\n",
       "      <td>88.0</td>\n",
       "      <td>194.0</td>\n",
       "      <td>0</td>\n",
       "    </tr>\n",
       "  </tbody>\n",
       "</table>\n",
       "</div>"
      ],
      "text/plain": [
       "   id Jenis_Kelamin  Umur  SIM  Kode_Daerah  Sudah_Asuransi Umur_Kendaraan  \\\n",
       "0   1        Wanita  30.0  1.0         33.0             1.0      < 1 Tahun   \n",
       "1   2          Pria  48.0  1.0         39.0             0.0      > 2 Tahun   \n",
       "2   3           NaN  21.0  1.0         46.0             1.0      < 1 Tahun   \n",
       "3   4        Wanita  58.0  1.0         48.0             0.0      1-2 Tahun   \n",
       "4   5          Pria  50.0  1.0         35.0             0.0      > 2 Tahun   \n",
       "\n",
       "  Kendaraan_Rusak    Premi  Kanal_Penjualan  Lama_Berlangganan  Tertarik  \n",
       "0           Tidak  28029.0            152.0               97.0         0  \n",
       "1          Pernah  25800.0             29.0              158.0         0  \n",
       "2           Tidak  32733.0            160.0              119.0         0  \n",
       "3           Tidak   2630.0            124.0               63.0         0  \n",
       "4             NaN  34857.0             88.0              194.0         0  "
      ]
     },
     "execution_count": 26,
     "metadata": {},
     "output_type": "execute_result"
    }
   ],
   "source": [
    "df_train_eks.head()"
   ]
  },
  {
   "cell_type": "markdown",
   "id": "041c650c",
   "metadata": {},
   "source": [
    "##### Menampilkan jumlah baris dan kolom dataset"
   ]
  },
  {
   "cell_type": "code",
   "execution_count": 27,
   "id": "05fa0200",
   "metadata": {},
   "outputs": [
    {
     "data": {
      "text/plain": [
       "(285831, 12)"
      ]
     },
     "execution_count": 27,
     "metadata": {},
     "output_type": "execute_result"
    }
   ],
   "source": [
    "df_train_eks.shape"
   ]
  },
  {
   "cell_type": "markdown",
   "id": "cf915c95",
   "metadata": {},
   "source": [
    "##### Menampilkan struktur file"
   ]
  },
  {
   "cell_type": "code",
   "execution_count": 28,
   "id": "aad5f571",
   "metadata": {},
   "outputs": [
    {
     "name": "stdout",
     "output_type": "stream",
     "text": [
      "<class 'pandas.core.frame.DataFrame'>\n",
      "RangeIndex: 285831 entries, 0 to 285830\n",
      "Data columns (total 12 columns):\n",
      " #   Column             Non-Null Count   Dtype  \n",
      "---  ------             --------------   -----  \n",
      " 0   id                 285831 non-null  int64  \n",
      " 1   Jenis_Kelamin      271391 non-null  object \n",
      " 2   Umur               271617 non-null  float64\n",
      " 3   SIM                271427 non-null  float64\n",
      " 4   Kode_Daerah        271525 non-null  float64\n",
      " 5   Sudah_Asuransi     271602 non-null  float64\n",
      " 6   Umur_Kendaraan     271556 non-null  object \n",
      " 7   Kendaraan_Rusak    271643 non-null  object \n",
      " 8   Premi              271262 non-null  float64\n",
      " 9   Kanal_Penjualan    271532 non-null  float64\n",
      " 10  Lama_Berlangganan  271839 non-null  float64\n",
      " 11  Tertarik           285831 non-null  int64  \n",
      "dtypes: float64(7), int64(2), object(3)\n",
      "memory usage: 26.2+ MB\n"
     ]
    }
   ],
   "source": [
    "df_train_eks.info()"
   ]
  },
  {
   "cell_type": "markdown",
   "id": "0e98feae",
   "metadata": {},
   "source": [
    "##### Menampilkan statistik dataset"
   ]
  },
  {
   "cell_type": "code",
   "execution_count": 29,
   "id": "ac5eceff",
   "metadata": {
    "scrolled": true
   },
   "outputs": [
    {
     "data": {
      "text/html": [
       "<div>\n",
       "<style scoped>\n",
       "    .dataframe tbody tr th:only-of-type {\n",
       "        vertical-align: middle;\n",
       "    }\n",
       "\n",
       "    .dataframe tbody tr th {\n",
       "        vertical-align: top;\n",
       "    }\n",
       "\n",
       "    .dataframe thead th {\n",
       "        text-align: right;\n",
       "    }\n",
       "</style>\n",
       "<table border=\"1\" class=\"dataframe\">\n",
       "  <thead>\n",
       "    <tr style=\"text-align: right;\">\n",
       "      <th></th>\n",
       "      <th>id</th>\n",
       "      <th>Umur</th>\n",
       "      <th>SIM</th>\n",
       "      <th>Kode_Daerah</th>\n",
       "      <th>Sudah_Asuransi</th>\n",
       "      <th>Premi</th>\n",
       "      <th>Kanal_Penjualan</th>\n",
       "      <th>Lama_Berlangganan</th>\n",
       "      <th>Tertarik</th>\n",
       "    </tr>\n",
       "  </thead>\n",
       "  <tbody>\n",
       "    <tr>\n",
       "      <th>count</th>\n",
       "      <td>285831.000000</td>\n",
       "      <td>271617.000000</td>\n",
       "      <td>271427.000000</td>\n",
       "      <td>271525.000000</td>\n",
       "      <td>271602.000000</td>\n",
       "      <td>271262.000000</td>\n",
       "      <td>271532.000000</td>\n",
       "      <td>271839.000000</td>\n",
       "      <td>285831.000000</td>\n",
       "    </tr>\n",
       "    <tr>\n",
       "      <th>mean</th>\n",
       "      <td>142916.000000</td>\n",
       "      <td>38.844336</td>\n",
       "      <td>0.997848</td>\n",
       "      <td>26.405410</td>\n",
       "      <td>0.458778</td>\n",
       "      <td>30536.683472</td>\n",
       "      <td>112.021567</td>\n",
       "      <td>154.286302</td>\n",
       "      <td>0.122471</td>\n",
       "    </tr>\n",
       "    <tr>\n",
       "      <th>std</th>\n",
       "      <td>82512.446734</td>\n",
       "      <td>15.522487</td>\n",
       "      <td>0.046335</td>\n",
       "      <td>13.252714</td>\n",
       "      <td>0.498299</td>\n",
       "      <td>17155.000770</td>\n",
       "      <td>54.202457</td>\n",
       "      <td>83.694910</td>\n",
       "      <td>0.327830</td>\n",
       "    </tr>\n",
       "    <tr>\n",
       "      <th>min</th>\n",
       "      <td>1.000000</td>\n",
       "      <td>20.000000</td>\n",
       "      <td>0.000000</td>\n",
       "      <td>0.000000</td>\n",
       "      <td>0.000000</td>\n",
       "      <td>2630.000000</td>\n",
       "      <td>1.000000</td>\n",
       "      <td>10.000000</td>\n",
       "      <td>0.000000</td>\n",
       "    </tr>\n",
       "    <tr>\n",
       "      <th>25%</th>\n",
       "      <td>71458.500000</td>\n",
       "      <td>25.000000</td>\n",
       "      <td>1.000000</td>\n",
       "      <td>15.000000</td>\n",
       "      <td>0.000000</td>\n",
       "      <td>24398.000000</td>\n",
       "      <td>29.000000</td>\n",
       "      <td>82.000000</td>\n",
       "      <td>0.000000</td>\n",
       "    </tr>\n",
       "    <tr>\n",
       "      <th>50%</th>\n",
       "      <td>142916.000000</td>\n",
       "      <td>36.000000</td>\n",
       "      <td>1.000000</td>\n",
       "      <td>28.000000</td>\n",
       "      <td>0.000000</td>\n",
       "      <td>31646.000000</td>\n",
       "      <td>132.000000</td>\n",
       "      <td>154.000000</td>\n",
       "      <td>0.000000</td>\n",
       "    </tr>\n",
       "    <tr>\n",
       "      <th>75%</th>\n",
       "      <td>214373.500000</td>\n",
       "      <td>49.000000</td>\n",
       "      <td>1.000000</td>\n",
       "      <td>35.000000</td>\n",
       "      <td>1.000000</td>\n",
       "      <td>39377.750000</td>\n",
       "      <td>152.000000</td>\n",
       "      <td>227.000000</td>\n",
       "      <td>0.000000</td>\n",
       "    </tr>\n",
       "    <tr>\n",
       "      <th>max</th>\n",
       "      <td>285831.000000</td>\n",
       "      <td>85.000000</td>\n",
       "      <td>1.000000</td>\n",
       "      <td>52.000000</td>\n",
       "      <td>1.000000</td>\n",
       "      <td>540165.000000</td>\n",
       "      <td>163.000000</td>\n",
       "      <td>299.000000</td>\n",
       "      <td>1.000000</td>\n",
       "    </tr>\n",
       "  </tbody>\n",
       "</table>\n",
       "</div>"
      ],
      "text/plain": [
       "                  id           Umur            SIM    Kode_Daerah  \\\n",
       "count  285831.000000  271617.000000  271427.000000  271525.000000   \n",
       "mean   142916.000000      38.844336       0.997848      26.405410   \n",
       "std     82512.446734      15.522487       0.046335      13.252714   \n",
       "min         1.000000      20.000000       0.000000       0.000000   \n",
       "25%     71458.500000      25.000000       1.000000      15.000000   \n",
       "50%    142916.000000      36.000000       1.000000      28.000000   \n",
       "75%    214373.500000      49.000000       1.000000      35.000000   \n",
       "max    285831.000000      85.000000       1.000000      52.000000   \n",
       "\n",
       "       Sudah_Asuransi          Premi  Kanal_Penjualan  Lama_Berlangganan  \\\n",
       "count   271602.000000  271262.000000    271532.000000      271839.000000   \n",
       "mean         0.458778   30536.683472       112.021567         154.286302   \n",
       "std          0.498299   17155.000770        54.202457          83.694910   \n",
       "min          0.000000    2630.000000         1.000000          10.000000   \n",
       "25%          0.000000   24398.000000        29.000000          82.000000   \n",
       "50%          0.000000   31646.000000       132.000000         154.000000   \n",
       "75%          1.000000   39377.750000       152.000000         227.000000   \n",
       "max          1.000000  540165.000000       163.000000         299.000000   \n",
       "\n",
       "            Tertarik  \n",
       "count  285831.000000  \n",
       "mean        0.122471  \n",
       "std         0.327830  \n",
       "min         0.000000  \n",
       "25%         0.000000  \n",
       "50%         0.000000  \n",
       "75%         0.000000  \n",
       "max         1.000000  "
      ]
     },
     "execution_count": 29,
     "metadata": {},
     "output_type": "execute_result"
    }
   ],
   "source": [
    "df_train_eks.describe()"
   ]
  },
  {
   "cell_type": "markdown",
   "id": "8c1e7e0b",
   "metadata": {},
   "source": [
    "##### Membersihkan dataset\n",
    "Semua kolom dari dataset yang bernilai null atau kosong akan di buang. Tujuannya supaya dataset yang akan diolah sudah dalam keadaan bersih."
   ]
  },
  {
   "cell_type": "code",
   "execution_count": 30,
   "id": "462255da",
   "metadata": {},
   "outputs": [
    {
     "data": {
      "text/plain": [
       "(171068, 12)"
      ]
     },
     "execution_count": 30,
     "metadata": {},
     "output_type": "execute_result"
    }
   ],
   "source": [
    "df_train_eks.dropna(inplace = True, axis = 0)\n",
    "df_train_eks.shape"
   ]
  },
  {
   "cell_type": "markdown",
   "id": "aaa0a641",
   "metadata": {},
   "source": [
    "Sebelum dibersihkan jumlah baris = 285831, Setelah dibersihkan jumlah baris = 171068"
   ]
  },
  {
   "cell_type": "markdown",
   "id": "c3f33417",
   "metadata": {},
   "source": [
    "##### Membuat index baru\n",
    "Karena kolom {id} penomorannya sudah tidak teratur akibat pembersihan data, maka kolom {id} di drop untuk membuat index yang baru, dan selanjutnya menampilkan kembali preview dataset."
   ]
  },
  {
   "cell_type": "code",
   "execution_count": 31,
   "id": "50cc7645",
   "metadata": {},
   "outputs": [
    {
     "data": {
      "text/html": [
       "<div>\n",
       "<style scoped>\n",
       "    .dataframe tbody tr th:only-of-type {\n",
       "        vertical-align: middle;\n",
       "    }\n",
       "\n",
       "    .dataframe tbody tr th {\n",
       "        vertical-align: top;\n",
       "    }\n",
       "\n",
       "    .dataframe thead th {\n",
       "        text-align: right;\n",
       "    }\n",
       "</style>\n",
       "<table border=\"1\" class=\"dataframe\">\n",
       "  <thead>\n",
       "    <tr style=\"text-align: right;\">\n",
       "      <th></th>\n",
       "      <th>Jenis_Kelamin</th>\n",
       "      <th>Umur</th>\n",
       "      <th>SIM</th>\n",
       "      <th>Kode_Daerah</th>\n",
       "      <th>Sudah_Asuransi</th>\n",
       "      <th>Umur_Kendaraan</th>\n",
       "      <th>Kendaraan_Rusak</th>\n",
       "      <th>Premi</th>\n",
       "      <th>Kanal_Penjualan</th>\n",
       "      <th>Lama_Berlangganan</th>\n",
       "      <th>Tertarik</th>\n",
       "    </tr>\n",
       "  </thead>\n",
       "  <tbody>\n",
       "    <tr>\n",
       "      <th>0</th>\n",
       "      <td>Wanita</td>\n",
       "      <td>30.0</td>\n",
       "      <td>1.0</td>\n",
       "      <td>33.0</td>\n",
       "      <td>1.0</td>\n",
       "      <td>&lt; 1 Tahun</td>\n",
       "      <td>Tidak</td>\n",
       "      <td>28029.0</td>\n",
       "      <td>152.0</td>\n",
       "      <td>97.0</td>\n",
       "      <td>0</td>\n",
       "    </tr>\n",
       "    <tr>\n",
       "      <th>1</th>\n",
       "      <td>Pria</td>\n",
       "      <td>48.0</td>\n",
       "      <td>1.0</td>\n",
       "      <td>39.0</td>\n",
       "      <td>0.0</td>\n",
       "      <td>&gt; 2 Tahun</td>\n",
       "      <td>Pernah</td>\n",
       "      <td>25800.0</td>\n",
       "      <td>29.0</td>\n",
       "      <td>158.0</td>\n",
       "      <td>0</td>\n",
       "    </tr>\n",
       "    <tr>\n",
       "      <th>2</th>\n",
       "      <td>Wanita</td>\n",
       "      <td>58.0</td>\n",
       "      <td>1.0</td>\n",
       "      <td>48.0</td>\n",
       "      <td>0.0</td>\n",
       "      <td>1-2 Tahun</td>\n",
       "      <td>Tidak</td>\n",
       "      <td>2630.0</td>\n",
       "      <td>124.0</td>\n",
       "      <td>63.0</td>\n",
       "      <td>0</td>\n",
       "    </tr>\n",
       "    <tr>\n",
       "      <th>3</th>\n",
       "      <td>Pria</td>\n",
       "      <td>21.0</td>\n",
       "      <td>1.0</td>\n",
       "      <td>35.0</td>\n",
       "      <td>1.0</td>\n",
       "      <td>&lt; 1 Tahun</td>\n",
       "      <td>Tidak</td>\n",
       "      <td>22735.0</td>\n",
       "      <td>152.0</td>\n",
       "      <td>171.0</td>\n",
       "      <td>0</td>\n",
       "    </tr>\n",
       "    <tr>\n",
       "      <th>4</th>\n",
       "      <td>Wanita</td>\n",
       "      <td>20.0</td>\n",
       "      <td>1.0</td>\n",
       "      <td>8.0</td>\n",
       "      <td>1.0</td>\n",
       "      <td>&lt; 1 Tahun</td>\n",
       "      <td>Tidak</td>\n",
       "      <td>30786.0</td>\n",
       "      <td>160.0</td>\n",
       "      <td>31.0</td>\n",
       "      <td>0</td>\n",
       "    </tr>\n",
       "  </tbody>\n",
       "</table>\n",
       "</div>"
      ],
      "text/plain": [
       "  Jenis_Kelamin  Umur  SIM  Kode_Daerah  Sudah_Asuransi Umur_Kendaraan  \\\n",
       "0        Wanita  30.0  1.0         33.0             1.0      < 1 Tahun   \n",
       "1          Pria  48.0  1.0         39.0             0.0      > 2 Tahun   \n",
       "2        Wanita  58.0  1.0         48.0             0.0      1-2 Tahun   \n",
       "3          Pria  21.0  1.0         35.0             1.0      < 1 Tahun   \n",
       "4        Wanita  20.0  1.0          8.0             1.0      < 1 Tahun   \n",
       "\n",
       "  Kendaraan_Rusak    Premi  Kanal_Penjualan  Lama_Berlangganan  Tertarik  \n",
       "0           Tidak  28029.0            152.0               97.0         0  \n",
       "1          Pernah  25800.0             29.0              158.0         0  \n",
       "2           Tidak   2630.0            124.0               63.0         0  \n",
       "3           Tidak  22735.0            152.0              171.0         0  \n",
       "4           Tidak  30786.0            160.0               31.0         0  "
      ]
     },
     "execution_count": 31,
     "metadata": {},
     "output_type": "execute_result"
    }
   ],
   "source": [
    "df_train_eks = df_train_eks.drop([\"id\"], axis = 1)\n",
    "df_train_eks = df_train_eks.reset_index(drop=True)\n",
    "df_train_eks.head()"
   ]
  },
  {
   "cell_type": "markdown",
   "id": "e88db0ef",
   "metadata": {},
   "source": [
    "##### Mengkonversi kolom dengan tipe data objek menjadi numerikal\n",
    "Tujuan: agar pengolahan data mudah dilakukan"
   ]
  },
  {
   "cell_type": "code",
   "execution_count": 32,
   "id": "a85d06da",
   "metadata": {
    "scrolled": true
   },
   "outputs": [
    {
     "data": {
      "text/html": [
       "<div>\n",
       "<style scoped>\n",
       "    .dataframe tbody tr th:only-of-type {\n",
       "        vertical-align: middle;\n",
       "    }\n",
       "\n",
       "    .dataframe tbody tr th {\n",
       "        vertical-align: top;\n",
       "    }\n",
       "\n",
       "    .dataframe thead th {\n",
       "        text-align: right;\n",
       "    }\n",
       "</style>\n",
       "<table border=\"1\" class=\"dataframe\">\n",
       "  <thead>\n",
       "    <tr style=\"text-align: right;\">\n",
       "      <th></th>\n",
       "      <th>Jenis_Kelamin</th>\n",
       "      <th>Umur</th>\n",
       "      <th>SIM</th>\n",
       "      <th>Kode_Daerah</th>\n",
       "      <th>Sudah_Asuransi</th>\n",
       "      <th>Umur_Kendaraan</th>\n",
       "      <th>Kendaraan_Rusak</th>\n",
       "      <th>Premi</th>\n",
       "      <th>Kanal_Penjualan</th>\n",
       "      <th>Lama_Berlangganan</th>\n",
       "      <th>Tertarik</th>\n",
       "    </tr>\n",
       "  </thead>\n",
       "  <tbody>\n",
       "    <tr>\n",
       "      <th>0</th>\n",
       "      <td>0</td>\n",
       "      <td>30.0</td>\n",
       "      <td>1.0</td>\n",
       "      <td>33.0</td>\n",
       "      <td>1.0</td>\n",
       "      <td>1</td>\n",
       "      <td>0</td>\n",
       "      <td>28029.0</td>\n",
       "      <td>152.0</td>\n",
       "      <td>97.0</td>\n",
       "      <td>0</td>\n",
       "    </tr>\n",
       "    <tr>\n",
       "      <th>1</th>\n",
       "      <td>1</td>\n",
       "      <td>48.0</td>\n",
       "      <td>1.0</td>\n",
       "      <td>39.0</td>\n",
       "      <td>0.0</td>\n",
       "      <td>3</td>\n",
       "      <td>1</td>\n",
       "      <td>25800.0</td>\n",
       "      <td>29.0</td>\n",
       "      <td>158.0</td>\n",
       "      <td>0</td>\n",
       "    </tr>\n",
       "    <tr>\n",
       "      <th>2</th>\n",
       "      <td>0</td>\n",
       "      <td>58.0</td>\n",
       "      <td>1.0</td>\n",
       "      <td>48.0</td>\n",
       "      <td>0.0</td>\n",
       "      <td>2</td>\n",
       "      <td>0</td>\n",
       "      <td>2630.0</td>\n",
       "      <td>124.0</td>\n",
       "      <td>63.0</td>\n",
       "      <td>0</td>\n",
       "    </tr>\n",
       "    <tr>\n",
       "      <th>3</th>\n",
       "      <td>1</td>\n",
       "      <td>21.0</td>\n",
       "      <td>1.0</td>\n",
       "      <td>35.0</td>\n",
       "      <td>1.0</td>\n",
       "      <td>1</td>\n",
       "      <td>0</td>\n",
       "      <td>22735.0</td>\n",
       "      <td>152.0</td>\n",
       "      <td>171.0</td>\n",
       "      <td>0</td>\n",
       "    </tr>\n",
       "    <tr>\n",
       "      <th>4</th>\n",
       "      <td>0</td>\n",
       "      <td>20.0</td>\n",
       "      <td>1.0</td>\n",
       "      <td>8.0</td>\n",
       "      <td>1.0</td>\n",
       "      <td>1</td>\n",
       "      <td>0</td>\n",
       "      <td>30786.0</td>\n",
       "      <td>160.0</td>\n",
       "      <td>31.0</td>\n",
       "      <td>0</td>\n",
       "    </tr>\n",
       "  </tbody>\n",
       "</table>\n",
       "</div>"
      ],
      "text/plain": [
       "   Jenis_Kelamin  Umur  SIM  Kode_Daerah  Sudah_Asuransi  Umur_Kendaraan  \\\n",
       "0              0  30.0  1.0         33.0             1.0               1   \n",
       "1              1  48.0  1.0         39.0             0.0               3   \n",
       "2              0  58.0  1.0         48.0             0.0               2   \n",
       "3              1  21.0  1.0         35.0             1.0               1   \n",
       "4              0  20.0  1.0          8.0             1.0               1   \n",
       "\n",
       "   Kendaraan_Rusak    Premi  Kanal_Penjualan  Lama_Berlangganan  Tertarik  \n",
       "0                0  28029.0            152.0               97.0         0  \n",
       "1                1  25800.0             29.0              158.0         0  \n",
       "2                0   2630.0            124.0               63.0         0  \n",
       "3                0  22735.0            152.0              171.0         0  \n",
       "4                0  30786.0            160.0               31.0         0  "
      ]
     },
     "execution_count": 32,
     "metadata": {},
     "output_type": "execute_result"
    }
   ],
   "source": [
    "#Jenis Kelamin\n",
    "df_train_eks[\"Jenis_Kelamin\"] = df_train_eks[\"Jenis_Kelamin\"].replace([\"Pria\", \"Wanita\"], [1,0])\n",
    "\n",
    "#Umur Kendaraan\n",
    "df_train_eks[\"Umur_Kendaraan\"] = df_train_eks[\"Umur_Kendaraan\"].replace([\"< 1 Tahun\", \"> 2 Tahun\", \"1-2 Tahun\"], [1,3,2])\n",
    "\n",
    "#Kendaraan Rusak\n",
    "df_train_eks[\"Kendaraan_Rusak\"] = df_train_eks[\"Kendaraan_Rusak\"].replace([\"Pernah\", \"Tidak\"], [1,0])\n",
    "\n",
    "df_train_eks.head()"
   ]
  },
  {
   "cell_type": "markdown",
   "id": "28414752",
   "metadata": {},
   "source": [
    "### Keterangan:\n",
    "##### Jenis_Kelamin: 0 - Wanita, 1 - Pria\n",
    "##### Umur_Kendaraan: 1 : \"< 1 Tahun\", 1.5 : \"1-2 Tahun\", 2 : \"> 2 Tahun\"\n",
    "##### Kendaraan_Rusak: 0 : \"Tidak, 1 : \"Pernah\""
   ]
  },
  {
   "cell_type": "markdown",
   "id": "6b6299c4",
   "metadata": {},
   "source": [
    "### Scalling Dataset"
   ]
  },
  {
   "cell_type": "code",
   "execution_count": 33,
   "id": "cdc92085",
   "metadata": {},
   "outputs": [
    {
     "data": {
      "text/html": [
       "<div>\n",
       "<style scoped>\n",
       "    .dataframe tbody tr th:only-of-type {\n",
       "        vertical-align: middle;\n",
       "    }\n",
       "\n",
       "    .dataframe tbody tr th {\n",
       "        vertical-align: top;\n",
       "    }\n",
       "\n",
       "    .dataframe thead th {\n",
       "        text-align: right;\n",
       "    }\n",
       "</style>\n",
       "<table border=\"1\" class=\"dataframe\">\n",
       "  <thead>\n",
       "    <tr style=\"text-align: right;\">\n",
       "      <th></th>\n",
       "      <th>Jenis_Kelamin</th>\n",
       "      <th>Umur</th>\n",
       "      <th>SIM</th>\n",
       "      <th>Kode_Daerah</th>\n",
       "      <th>Sudah_Asuransi</th>\n",
       "      <th>Umur_Kendaraan</th>\n",
       "      <th>Kendaraan_Rusak</th>\n",
       "      <th>Premi</th>\n",
       "      <th>Kanal_Penjualan</th>\n",
       "      <th>Lama_Berlangganan</th>\n",
       "      <th>Tertarik</th>\n",
       "    </tr>\n",
       "  </thead>\n",
       "  <tbody>\n",
       "    <tr>\n",
       "      <th>0</th>\n",
       "      <td>-1.084918</td>\n",
       "      <td>-0.567753</td>\n",
       "      <td>0.045537</td>\n",
       "      <td>0.496795</td>\n",
       "      <td>1.083923</td>\n",
       "      <td>-1.071127</td>\n",
       "      <td>-1.008925</td>\n",
       "      <td>-0.144979</td>\n",
       "      <td>0.734473</td>\n",
       "      <td>-0.682703</td>\n",
       "      <td>-0.372027</td>\n",
       "    </tr>\n",
       "    <tr>\n",
       "      <th>1</th>\n",
       "      <td>0.921729</td>\n",
       "      <td>0.591171</td>\n",
       "      <td>0.045537</td>\n",
       "      <td>0.949204</td>\n",
       "      <td>-0.922575</td>\n",
       "      <td>2.452328</td>\n",
       "      <td>0.991154</td>\n",
       "      <td>-0.275404</td>\n",
       "      <td>-1.538819</td>\n",
       "      <td>0.044680</td>\n",
       "      <td>-0.372027</td>\n",
       "    </tr>\n",
       "    <tr>\n",
       "      <th>2</th>\n",
       "      <td>-1.084918</td>\n",
       "      <td>1.235018</td>\n",
       "      <td>0.045537</td>\n",
       "      <td>1.627818</td>\n",
       "      <td>-0.922575</td>\n",
       "      <td>0.690601</td>\n",
       "      <td>-1.008925</td>\n",
       "      <td>-1.631139</td>\n",
       "      <td>0.216975</td>\n",
       "      <td>-1.088129</td>\n",
       "      <td>-0.372027</td>\n",
       "    </tr>\n",
       "    <tr>\n",
       "      <th>3</th>\n",
       "      <td>0.921729</td>\n",
       "      <td>-1.147215</td>\n",
       "      <td>0.045537</td>\n",
       "      <td>0.647598</td>\n",
       "      <td>1.083923</td>\n",
       "      <td>-1.071127</td>\n",
       "      <td>-1.008925</td>\n",
       "      <td>-0.454745</td>\n",
       "      <td>0.734473</td>\n",
       "      <td>0.199696</td>\n",
       "      <td>-0.372027</td>\n",
       "    </tr>\n",
       "    <tr>\n",
       "      <th>4</th>\n",
       "      <td>-1.084918</td>\n",
       "      <td>-1.211599</td>\n",
       "      <td>0.045537</td>\n",
       "      <td>-1.388242</td>\n",
       "      <td>1.083923</td>\n",
       "      <td>-1.071127</td>\n",
       "      <td>-1.008925</td>\n",
       "      <td>0.016340</td>\n",
       "      <td>0.882329</td>\n",
       "      <td>-1.469707</td>\n",
       "      <td>-0.372027</td>\n",
       "    </tr>\n",
       "    <tr>\n",
       "      <th>...</th>\n",
       "      <td>...</td>\n",
       "      <td>...</td>\n",
       "      <td>...</td>\n",
       "      <td>...</td>\n",
       "      <td>...</td>\n",
       "      <td>...</td>\n",
       "      <td>...</td>\n",
       "      <td>...</td>\n",
       "      <td>...</td>\n",
       "      <td>...</td>\n",
       "      <td>...</td>\n",
       "    </tr>\n",
       "    <tr>\n",
       "      <th>171063</th>\n",
       "      <td>-1.084918</td>\n",
       "      <td>-1.018445</td>\n",
       "      <td>0.045537</td>\n",
       "      <td>-1.689848</td>\n",
       "      <td>1.083923</td>\n",
       "      <td>-1.071127</td>\n",
       "      <td>-1.008925</td>\n",
       "      <td>-0.264403</td>\n",
       "      <td>0.734473</td>\n",
       "      <td>0.748214</td>\n",
       "      <td>-0.372027</td>\n",
       "    </tr>\n",
       "    <tr>\n",
       "      <th>171064</th>\n",
       "      <td>-1.084918</td>\n",
       "      <td>-1.147215</td>\n",
       "      <td>0.045537</td>\n",
       "      <td>1.477015</td>\n",
       "      <td>1.083923</td>\n",
       "      <td>-1.071127</td>\n",
       "      <td>-1.008925</td>\n",
       "      <td>0.829664</td>\n",
       "      <td>0.734473</td>\n",
       "      <td>-1.243145</td>\n",
       "      <td>-0.372027</td>\n",
       "    </tr>\n",
       "    <tr>\n",
       "      <th>171065</th>\n",
       "      <td>-1.084918</td>\n",
       "      <td>-1.018445</td>\n",
       "      <td>0.045537</td>\n",
       "      <td>1.778621</td>\n",
       "      <td>1.083923</td>\n",
       "      <td>-1.071127</td>\n",
       "      <td>-1.008925</td>\n",
       "      <td>1.126030</td>\n",
       "      <td>0.734473</td>\n",
       "      <td>0.855532</td>\n",
       "      <td>-0.372027</td>\n",
       "    </tr>\n",
       "    <tr>\n",
       "      <th>171066</th>\n",
       "      <td>0.921729</td>\n",
       "      <td>1.878864</td>\n",
       "      <td>0.045537</td>\n",
       "      <td>-1.463643</td>\n",
       "      <td>1.083923</td>\n",
       "      <td>0.690601</td>\n",
       "      <td>-1.008925</td>\n",
       "      <td>-0.000219</td>\n",
       "      <td>0.216975</td>\n",
       "      <td>1.380202</td>\n",
       "      <td>-0.372027</td>\n",
       "    </tr>\n",
       "    <tr>\n",
       "      <th>171067</th>\n",
       "      <td>0.921729</td>\n",
       "      <td>0.398017</td>\n",
       "      <td>0.045537</td>\n",
       "      <td>0.119788</td>\n",
       "      <td>-0.922575</td>\n",
       "      <td>0.690601</td>\n",
       "      <td>0.991154</td>\n",
       "      <td>0.349510</td>\n",
       "      <td>-1.594265</td>\n",
       "      <td>-1.314691</td>\n",
       "      <td>-0.372027</td>\n",
       "    </tr>\n",
       "  </tbody>\n",
       "</table>\n",
       "<p>171068 rows × 11 columns</p>\n",
       "</div>"
      ],
      "text/plain": [
       "        Jenis_Kelamin      Umur       SIM  Kode_Daerah  Sudah_Asuransi  \\\n",
       "0           -1.084918 -0.567753  0.045537     0.496795        1.083923   \n",
       "1            0.921729  0.591171  0.045537     0.949204       -0.922575   \n",
       "2           -1.084918  1.235018  0.045537     1.627818       -0.922575   \n",
       "3            0.921729 -1.147215  0.045537     0.647598        1.083923   \n",
       "4           -1.084918 -1.211599  0.045537    -1.388242        1.083923   \n",
       "...               ...       ...       ...          ...             ...   \n",
       "171063      -1.084918 -1.018445  0.045537    -1.689848        1.083923   \n",
       "171064      -1.084918 -1.147215  0.045537     1.477015        1.083923   \n",
       "171065      -1.084918 -1.018445  0.045537     1.778621        1.083923   \n",
       "171066       0.921729  1.878864  0.045537    -1.463643        1.083923   \n",
       "171067       0.921729  0.398017  0.045537     0.119788       -0.922575   \n",
       "\n",
       "        Umur_Kendaraan  Kendaraan_Rusak     Premi  Kanal_Penjualan  \\\n",
       "0            -1.071127        -1.008925 -0.144979         0.734473   \n",
       "1             2.452328         0.991154 -0.275404        -1.538819   \n",
       "2             0.690601        -1.008925 -1.631139         0.216975   \n",
       "3            -1.071127        -1.008925 -0.454745         0.734473   \n",
       "4            -1.071127        -1.008925  0.016340         0.882329   \n",
       "...                ...              ...       ...              ...   \n",
       "171063       -1.071127        -1.008925 -0.264403         0.734473   \n",
       "171064       -1.071127        -1.008925  0.829664         0.734473   \n",
       "171065       -1.071127        -1.008925  1.126030         0.734473   \n",
       "171066        0.690601        -1.008925 -0.000219         0.216975   \n",
       "171067        0.690601         0.991154  0.349510        -1.594265   \n",
       "\n",
       "        Lama_Berlangganan  Tertarik  \n",
       "0               -0.682703 -0.372027  \n",
       "1                0.044680 -0.372027  \n",
       "2               -1.088129 -0.372027  \n",
       "3                0.199696 -0.372027  \n",
       "4               -1.469707 -0.372027  \n",
       "...                   ...       ...  \n",
       "171063           0.748214 -0.372027  \n",
       "171064          -1.243145 -0.372027  \n",
       "171065           0.855532 -0.372027  \n",
       "171066           1.380202 -0.372027  \n",
       "171067          -1.314691 -0.372027  \n",
       "\n",
       "[171068 rows x 11 columns]"
      ]
     },
     "execution_count": 33,
     "metadata": {},
     "output_type": "execute_result"
    }
   ],
   "source": [
    "from sklearn.preprocessing import StandardScaler\n",
    "\n",
    "scaler = StandardScaler()\n",
    "df_train_eks = pd.DataFrame(scaler.fit_transform(df_train_eks), columns=df_train_eks.columns)\n",
    "df_train_eks"
   ]
  },
  {
   "cell_type": "markdown",
   "id": "043c9699",
   "metadata": {},
   "source": [
    "### Membuat Korelasi antar Kolom / Variabel\n",
    "Tujuan: melihat hubungan antar variabel dengan variabel lainnya, supaya dapat menentukan kolom yang akan dibuat\n",
    "clustering."
   ]
  },
  {
   "cell_type": "code",
   "execution_count": 34,
   "id": "6ce4c7ed",
   "metadata": {},
   "outputs": [
    {
     "data": {
      "image/png": "[encoded data removed]",
      "text/plain": [
       "<Figure size 1080x360 with 2 Axes>"
      ]
     },
     "metadata": {
      "needs_background": "light"
     },
     "output_type": "display_data"
    }
   ],
   "source": [
    "plt.figure(figsize=(15, 5))\n",
    "sns.heatmap(df_train_eks.corr(), annot = True,linewidths=.5)\n",
    "plt.title(\"Korelasi Antar Variabel Dengan Representasi Angka\",y=1.1)\n",
    "plt.show()"
   ]
  },
  {
   "cell_type": "markdown",
   "id": "1345292b",
   "metadata": {},
   "source": [
    "### Tahap: Splitting Dataset\n",
    "Konsep Principal Component Analysis (PCA) adalah mengelompokkan variabel-variabel yang berkorelasi linear menjadi 1 komponen utama, sehingga dari p variabel random (x1, x2, x3…, xp) akan didapat k komponen utama (k < p) yang\n",
    "mewakili variabilitas variabel yang ada. Tujuan dilakukannya PCA adalah untuk mereduksi struktur variabel menjadi variabel baru dengan dimensi yang lebih kecil. Variabel baru tersebut mampu menerangkan sebagian besar total varian data\n",
    "dan saling bebas satu sama lain."
   ]
  },
  {
   "cell_type": "code",
   "execution_count": 35,
   "id": "7fa78a4c",
   "metadata": {},
   "outputs": [
    {
     "data": {
      "text/plain": [
       "array([[-2.14252134,  0.17797044],\n",
       "       [ 2.86947419,  0.81972798],\n",
       "       [ 0.48353213,  0.45024887],\n",
       "       ...,\n",
       "       [-2.22670416,  0.25220758],\n",
       "       [ 0.15134263,  2.01599362],\n",
       "       [ 1.96471414,  0.36453143]])"
      ]
     },
     "execution_count": 35,
     "metadata": {},
     "output_type": "execute_result"
    }
   ],
   "source": [
    "from sklearn.decomposition import PCA\n",
    "pca = PCA(n_components=2)\n",
    "x = pca.fit_transform(df_train_eks)\n",
    "x"
   ]
  },
  {
   "cell_type": "markdown",
   "id": "de308266",
   "metadata": {},
   "source": [
    "##### Visualisasi setelah melalui proses PCA"
   ]
  },
  {
   "cell_type": "code",
   "execution_count": 36,
   "id": "5f7b54d5",
   "metadata": {},
   "outputs": [
    {
     "data": {
      "text/plain": [
       "<matplotlib.collections.PathCollection at 0x24f2a2f4460>"
      ]
     },
     "execution_count": 36,
     "metadata": {},
     "output_type": "execute_result"
    },
    {
     "data": {
      "image/png": "[encoded data removed]",
      "text/plain": [
       "<Figure size 432x288 with 1 Axes>"
      ]
     },
     "metadata": {
      "needs_background": "light"
     },
     "output_type": "display_data"
    }
   ],
   "source": [
    "plt.scatter(x[:,0],x[:,1])"
   ]
  },
  {
   "cell_type": "markdown",
   "id": "4e34c334",
   "metadata": {},
   "source": [
    "### Tahap: Pemodelan"
   ]
  },
  {
   "cell_type": "markdown",
   "id": "59231c0c",
   "metadata": {},
   "source": [
    "##### Menghitung jarak dengan menggunakan Euclidean Distance"
   ]
  },
  {
   "cell_type": "code",
   "execution_count": 37,
   "id": "353211eb",
   "metadata": {},
   "outputs": [],
   "source": [
    "def euclidean_distance(x1,x2):\n",
    "    return (sum((x1 - x2)**2)**0.5)"
   ]
  },
  {
   "cell_type": "markdown",
   "id": "9530dbaa",
   "metadata": {},
   "source": [
    "##### Membuat fungsi untuk mengelompokkan data kedalam cluster\n",
    "Mengembalikan list yang berisi cluster dari setiap dataset"
   ]
  },
  {
   "cell_type": "code",
   "execution_count": 38,
   "id": "4d44e50a",
   "metadata": {},
   "outputs": [],
   "source": [
    "def clustering(centroids, x):\n",
    "    clusters = []\n",
    "    for i in range(len(x)):\n",
    "        jarak = []\n",
    "        for centroid in centroids:\n",
    "            jarak.append(euclidean_distance(centroid, x[i]))\n",
    "        jarak_min = [z for z, val in enumerate(jarak) if val==min(jarak)]\n",
    "        clusters.append(jarak_min[0])\n",
    "    return np.array(clusters)"
   ]
  },
  {
   "cell_type": "markdown",
   "id": "6ef5c479",
   "metadata": {},
   "source": [
    "##### Membuat fungsi untuk membuat centroid baru"
   ]
  },
  {
   "cell_type": "code",
   "execution_count": 39,
   "id": "2f07a68e",
   "metadata": {},
   "outputs": [],
   "source": [
    "def create_centroid(clusters, x):\n",
    "    new_centroid = []\n",
    "    df_clusters_x = pd.concat([pd.DataFrame(x),pd.DataFrame(clusters, columns=['cluster'])], axis=1)\n",
    "    for c in set(df_clusters_x['cluster']):\n",
    "        df_current_cluster = df_clusters_x[df_clusters_x['cluster']==c][df_clusters_x.columns[:-1]]\n",
    "        average_cluster = df_current_cluster.mean(axis=0)\n",
    "        new_centroid.append(average_cluster)\n",
    "    return np.array(new_centroid)"
   ]
  },
  {
   "cell_type": "markdown",
   "id": "57d27011",
   "metadata": {},
   "source": [
    "### Menghitung varian\n",
    "##### Dasar penghitungan varian adalah untuk mengetahui keragaman suatu kelompok data."
   ]
  },
  {
   "cell_type": "code",
   "execution_count": 40,
   "id": "083cd99d",
   "metadata": {},
   "outputs": [],
   "source": [
    "def varians_cluster(clusters, x):\n",
    "    varians = []\n",
    "    df_clusters_x = pd.concat([pd.DataFrame(x),pd.DataFrame(clusters, columns=['cluster'])], axis=1)\n",
    "    for c in set(df_clusters_x['cluster']):\n",
    "        df_current_cluster = df_clusters_x[df_clusters_x['cluster'] ==c][df_clusters_x.columns[:-1]]\n",
    "        average_cluster = df_current_cluster.mean(axis=0)\n",
    "        mean_repmat = np.matlib.repmat(average_cluster, df_current_cluster.shape[0],1)\n",
    "        varians.append(np.sum(np.sum((df_current_cluster - mean_repmat)**2)))\n",
    "    return np.array(varians)"
   ]
  },
  {
   "cell_type": "code",
   "execution_count": 41,
   "id": "75d33e4b",
   "metadata": {},
   "outputs": [],
   "source": [
    "def elbow_method(SSE, k):\n",
    "    plt.plot(range(1,k+1),SSE)\n",
    "    plt.title('The Elbow Method')\n",
    "    plt.xlabel(\"Jumlah Cluster\")\n",
    "    plt.ylabel(\"SSE\")\n",
    "    plt.show()"
   ]
  },
  {
   "cell_type": "markdown",
   "id": "72994b46",
   "metadata": {},
   "source": [
    "##### K-Means Clustering"
   ]
  },
  {
   "cell_type": "code",
   "execution_count": 42,
   "id": "c605141b",
   "metadata": {},
   "outputs": [
    {
     "name": "stdout",
     "output_type": "stream",
     "text": [
      "Varian cluster awal 39188 pada K: 1\n",
      "Varian pada percobaan clustering Ke- 1 26245\n",
      "Varian pada percobaan clustering Ke- 2 25391\n",
      "SSE Cluster dengan K = 1 : 51635 \n",
      "\n",
      "Varian cluster awal 25391 pada K: 2\n",
      "Varian pada percobaan clustering Ke- 1 25108\n",
      "Varian pada percobaan clustering Ke- 2 24931\n",
      "SSE Cluster dengan K = 2 : 50039 \n",
      "\n",
      "Varian cluster awal 24931 pada K: 3\n",
      "Varian pada percobaan clustering Ke- 1 24770\n",
      "Varian pada percobaan clustering Ke- 2 24497\n",
      "SSE Cluster dengan K = 3 : 49267 \n",
      "\n",
      "Varian cluster awal 24497 pada K: 4\n",
      "Varian pada percobaan clustering Ke- 1 23888\n",
      "Varian pada percobaan clustering Ke- 2 22960\n",
      "SSE Cluster dengan K = 4 : 46848 \n",
      "\n",
      "Varian cluster awal 22960 pada K: 5\n",
      "Varian pada percobaan clustering Ke- 1 22501\n",
      "Varian pada percobaan clustering Ke- 2 22376\n",
      "SSE Cluster dengan K = 5 : 44877 \n",
      "\n"
     ]
    },
    {
     "data": {
      "image/png": "[encoded data removed]",
      "text/plain": [
       "<Figure size 432x288 with 1 Axes>"
      ]
     },
     "metadata": {
      "needs_background": "light"
     },
     "output_type": "display_data"
    }
   ],
   "source": [
    "k = 5\n",
    "SSE = []\n",
    "centroid_awal = np.random.choice(len(x), k, replace=False)\n",
    "centroids = x[centroid_awal, :]\n",
    "#Looping K\n",
    "for i in range (1,k+1):\n",
    "    variansCluster = []\n",
    "    clusters = clustering(centroids, x)\n",
    "    print(\"Varian cluster awal\", round(np.mean(varians_cluster(clusters, x))), \"pada K:\",i )\n",
    "    \n",
    "    #Looping Percobaan Clustering\n",
    "    for j in range(2):\n",
    "        centroids = create_centroid(clusters,x)\n",
    "        clusters = clustering(centroids, x)\n",
    "        cluster_var = np.mean(varians_cluster(clusters, x))\n",
    "        variansCluster.append(cluster_var)\n",
    "        print(\"Varian pada percobaan clustering Ke-\",j+1, round(cluster_var))\n",
    "    SSE.append(np.sum(variansCluster))\n",
    "    print(\"SSE Cluster dengan K =\",i,\":\",round(SSE[i-1]),\"\\n\")\n",
    "\n",
    "elbow_method(SSE,k)"
   ]
  },
  {
   "cell_type": "markdown",
   "id": "8f6d0a12",
   "metadata": {},
   "source": [
    "##### Tahap Visualisasi"
   ]
  },
  {
   "cell_type": "code",
   "execution_count": 43,
   "id": "a0fdfac9",
   "metadata": {},
   "outputs": [
    {
     "data": {
      "image/png": "[encoded data removed]",
      "text/plain": [
       "<Figure size 432x288 with 1 Axes>"
      ]
     },
     "metadata": {
      "needs_background": "light"
     },
     "output_type": "display_data"
    }
   ],
   "source": [
    "df_clusters_x = pd.concat([pd.DataFrame(x),pd.DataFrame(clusters, columns=['cluster'])], axis=1)\n",
    "label = df_clusters_x['cluster']\n",
    "u_labels = np.unique(label)\n",
    "for i in range(len(u_labels)):\n",
    "    plt.scatter(x[label == i , 0] , x[label == i , 1] , label = i+1, s = 100)\n",
    "plt.scatter(centroids[:,0], centroids[:,1], marker = 'P', s = 100, label = 'Centroids')\n",
    "plt.title('K-Means Clustering dengan {} cluster'.format(k))\n",
    "plt.legend(bbox_to_anchor=(1, 1), title = 'Clusters')\n",
    "plt.grid(True)\n",
    "plt.show()"
   ]
  },
  {
   "cell_type": "markdown",
   "id": "8a1b6848",
   "metadata": {},
   "source": [
    "##### Pengujian dengan Silhouette Method"
   ]
  },
  {
   "cell_type": "code",
   "execution_count": 44,
   "id": "15a01fca",
   "metadata": {},
   "outputs": [
    {
     "name": "stdout",
     "output_type": "stream",
     "text": [
      "Nilai Silhoutte Method untuk, n_clusters = 1 adalah 0.6310198307312876\n",
      "Nilai Silhoutte Method untuk, n_clusters = 2 adalah 0.6310198307312876\n",
      "Nilai Silhoutte Method untuk, n_clusters = 3 adalah 0.6310198307312876\n",
      "Nilai Silhoutte Method untuk, n_clusters = 4 adalah 0.6310198307312876\n",
      "Nilai Silhoutte Method untuk, n_clusters = 5 adalah 0.6310198307312876\n",
      "Wall time: 19min 22s\n"
     ]
    }
   ],
   "source": [
    "%%time\n",
    "from sklearn.metrics import silhouette_score\n",
    "\n",
    "skor_silhouette = []\n",
    "\n",
    "for n_cluster in range(k):\n",
    "    koefisien_silhouette = silhouette_score(df_clusters_x, df_clusters_x['cluster'], metric = 'euclidean')\n",
    "    skor_silhouette.append(koefisien_silhouette)\n",
    "    print('Nilai Silhoutte Method untuk, n_clusters = {} adalah {}'.format(n_cluster+1, koefisien_silhouette))"
   ]
  },
  {
   "cell_type": "markdown",
   "id": "423f78b6",
   "metadata": {},
   "source": [
    "### Kesimpulan"
   ]
  },
  {
   "cell_type": "markdown",
   "id": "8e0513fd",
   "metadata": {},
   "source": [
    "1. Hasil yang diperoleh bergantung pada proses pengolahan dataset awal. Semakin baik kualitas data tentu semakin baik hasil yang akan diperoleh. Data yang tidak lengkap sebaiknya dikeluarkan supaya tidak mempengaruhi gambaran data yang sebenarnya.\n",
    "2. Metode dalam penentuan feature, baik dipilih berdasarkan visualisasi korelasi antar variabel (dipilih) maupun dengan `PCA` keduanya menghasilkan hasil yang berbeda walaupun mempunyai gambaran umum yang sama.\n",
    "3. Pemilihan scalling baik secara `StandardScaler` ataupun `MinMaxScaler` juga turut mempengaruhi hasil akhir. \n",
    "4. Pengujian hasil `k-means` dapat dilakukan dengan `Elbow Method` dan `Silhouette Method`.\n",
    "5. Berdasarkan hasil pengujian Silhouette Method, hasil yang lebih akurat diperoleh berdasarkan kombinasi dari MinMaxScalar, penentuan variabel yang dipilih berdasarkan korelasi antar variabel, k-means dan Elbow Method."
   ]
  }
 ],
 "metadata": {
  "kernelspec": {
   "display_name": "Python 3",
   "language": "python",
   "name": "python3"
  },
  "language_info": {
   "codemirror_mode": {
    "name": "ipython",
    "version": 3
   },
   "file_extension": ".py",
   "mimetype": "text/x-python",
   "name": "python",
   "nbconvert_exporter": "python",
   "pygments_lexer": "ipython3",
   "version": "3.8.8"
  }
 },
 "nbformat": 4,
 "nbformat_minor": 5
}
